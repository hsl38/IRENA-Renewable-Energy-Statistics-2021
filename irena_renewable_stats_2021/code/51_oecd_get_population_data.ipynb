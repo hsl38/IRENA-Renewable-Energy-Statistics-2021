{
 "cells": [
  {
   "cell_type": "code",
   "execution_count": 1,
   "metadata": {},
   "outputs": [],
   "source": [
    "import pandas as pd\n",
    "import pandas_datareader.data as web"
   ]
  },
  {
   "cell_type": "code",
   "execution_count": 2,
   "metadata": {},
   "outputs": [],
   "source": [
    "# 이 방식은 최근 4년간의 데이터만 불러온다는 단점이 있다. \n",
    "df = web.DataReader('HISTPOP', 'oecd')"
   ]
  },
  {
   "cell_type": "code",
   "execution_count": 3,
   "metadata": {},
   "outputs": [
    {
     "data": {
      "text/plain": [
       "MultiIndex([(                    'Australia', 'Women', ...),\n",
       "            (                    'Australia', 'Women', ...),\n",
       "            (                    'Australia', 'Women', ...),\n",
       "            (                    'Australia', 'Women', ...),\n",
       "            (                    'Australia', 'Women', ...),\n",
       "            (                    'Australia', 'Women', ...),\n",
       "            (                    'Australia', 'Women', ...),\n",
       "            (                    'Australia', 'Women', ...),\n",
       "            (                    'Australia', 'Women', ...),\n",
       "            (                    'Australia', 'Women', ...),\n",
       "            ...\n",
       "            ('European Union (27 countries)', 'Total', ...),\n",
       "            ('European Union (27 countries)', 'Total', ...),\n",
       "            ('European Union (27 countries)', 'Total', ...),\n",
       "            ('European Union (27 countries)', 'Total', ...),\n",
       "            ('European Union (27 countries)', 'Total', ...),\n",
       "            ('European Union (27 countries)', 'Total', ...),\n",
       "            ('European Union (27 countries)', 'Total', ...),\n",
       "            ('European Union (27 countries)', 'Total', ...),\n",
       "            ('European Union (27 countries)', 'Total', ...),\n",
       "            ('European Union (27 countries)', 'Total', ...)],\n",
       "           names=['Country', 'Sex', 'Age'], length=5208)"
      ]
     },
     "execution_count": 3,
     "metadata": {},
     "output_type": "execute_result"
    }
   ],
   "source": [
    "df.columns"
   ]
  },
  {
   "cell_type": "code",
   "execution_count": 4,
   "metadata": {},
   "outputs": [
    {
     "data": {
      "text/html": [
       "<div>\n",
       "<style scoped>\n",
       "    .dataframe tbody tr th:only-of-type {\n",
       "        vertical-align: middle;\n",
       "    }\n",
       "\n",
       "    .dataframe tbody tr th {\n",
       "        vertical-align: top;\n",
       "    }\n",
       "\n",
       "    .dataframe thead tr th {\n",
       "        text-align: left;\n",
       "    }\n",
       "\n",
       "    .dataframe thead tr:last-of-type th {\n",
       "        text-align: right;\n",
       "    }\n",
       "</style>\n",
       "<table border=\"1\" class=\"dataframe\">\n",
       "  <thead>\n",
       "    <tr>\n",
       "      <th>Sex</th>\n",
       "      <th colspan=\"10\" halign=\"left\">Women</th>\n",
       "      <th>...</th>\n",
       "      <th colspan=\"10\" halign=\"left\">Total</th>\n",
       "    </tr>\n",
       "    <tr>\n",
       "      <th>Age</th>\n",
       "      <th>Total</th>\n",
       "      <th>0 to 4</th>\n",
       "      <th>5 to 9</th>\n",
       "      <th>10 to 14</th>\n",
       "      <th>15 to 19</th>\n",
       "      <th>20 to 24</th>\n",
       "      <th>25 to 29</th>\n",
       "      <th>30 to 34</th>\n",
       "      <th>35 to 39</th>\n",
       "      <th>40 to 44</th>\n",
       "      <th>...</th>\n",
       "      <th>15 to 64</th>\n",
       "      <th>20 to 64</th>\n",
       "      <th>65 and over</th>\n",
       "      <th>Share of 65 and over - elderly</th>\n",
       "      <th>Share of under 15 - children</th>\n",
       "      <th>Share of 15 to 24 - youth</th>\n",
       "      <th>Old age dependency ratio (65 and over/15-64)</th>\n",
       "      <th>Total dependency ratio ((&lt;20 &amp; 65+) / 20-64)</th>\n",
       "      <th>Share of 15 to 64 - working age</th>\n",
       "      <th>Annual growth rate of total population</th>\n",
       "    </tr>\n",
       "    <tr>\n",
       "      <th>Time</th>\n",
       "      <th></th>\n",
       "      <th></th>\n",
       "      <th></th>\n",
       "      <th></th>\n",
       "      <th></th>\n",
       "      <th></th>\n",
       "      <th></th>\n",
       "      <th></th>\n",
       "      <th></th>\n",
       "      <th></th>\n",
       "      <th></th>\n",
       "      <th></th>\n",
       "      <th></th>\n",
       "      <th></th>\n",
       "      <th></th>\n",
       "      <th></th>\n",
       "      <th></th>\n",
       "      <th></th>\n",
       "      <th></th>\n",
       "      <th></th>\n",
       "      <th></th>\n",
       "    </tr>\n",
       "  </thead>\n",
       "  <tbody>\n",
       "    <tr>\n",
       "      <th>2017-01-01</th>\n",
       "      <td>12398090.0</td>\n",
       "      <td>767901.0</td>\n",
       "      <td>772832.0</td>\n",
       "      <td>716032.0</td>\n",
       "      <td>722532.0</td>\n",
       "      <td>840528.0</td>\n",
       "      <td>924383.0</td>\n",
       "      <td>924450.0</td>\n",
       "      <td>833090.0</td>\n",
       "      <td>806253.0</td>\n",
       "      <td>...</td>\n",
       "      <td>16171910.0</td>\n",
       "      <td>14689310.0</td>\n",
       "      <td>3790842.0</td>\n",
       "      <td>15.408762</td>\n",
       "      <td>18.856737</td>\n",
       "      <td>13.014008</td>\n",
       "      <td>0.234409</td>\n",
       "      <td>0.674814</td>\n",
       "      <td>65.734501</td>\n",
       "      <td>1.698791</td>\n",
       "    </tr>\n",
       "    <tr>\n",
       "      <th>2018-01-01</th>\n",
       "      <td>12591646.0</td>\n",
       "      <td>764298.0</td>\n",
       "      <td>781107.0</td>\n",
       "      <td>736646.0</td>\n",
       "      <td>725700.0</td>\n",
       "      <td>849233.0</td>\n",
       "      <td>937224.0</td>\n",
       "      <td>941839.0</td>\n",
       "      <td>865201.0</td>\n",
       "      <td>800767.0</td>\n",
       "      <td>...</td>\n",
       "      <td>16376963.0</td>\n",
       "      <td>14886219.0</td>\n",
       "      <td>3912975.0</td>\n",
       "      <td>15.662746</td>\n",
       "      <td>18.784008</td>\n",
       "      <td>12.930470</td>\n",
       "      <td>0.238932</td>\n",
       "      <td>0.678243</td>\n",
       "      <td>65.553246</td>\n",
       "      <td>1.547964</td>\n",
       "    </tr>\n",
       "    <tr>\n",
       "      <th>2019-01-01</th>\n",
       "      <td>12786368.0</td>\n",
       "      <td>761580.0</td>\n",
       "      <td>788307.0</td>\n",
       "      <td>756676.0</td>\n",
       "      <td>728456.0</td>\n",
       "      <td>850721.0</td>\n",
       "      <td>949146.0</td>\n",
       "      <td>959375.0</td>\n",
       "      <td>896946.0</td>\n",
       "      <td>802591.0</td>\n",
       "      <td>...</td>\n",
       "      <td>16582988.0</td>\n",
       "      <td>15083887.0</td>\n",
       "      <td>4040130.0</td>\n",
       "      <td>15.927504</td>\n",
       "      <td>18.696975</td>\n",
       "      <td>12.808147</td>\n",
       "      <td>0.243631</td>\n",
       "      <td>0.681645</td>\n",
       "      <td>65.375521</td>\n",
       "      <td>1.533290</td>\n",
       "    </tr>\n",
       "    <tr>\n",
       "      <th>2020-01-01</th>\n",
       "      <td>12961702.0</td>\n",
       "      <td>755517.0</td>\n",
       "      <td>792689.0</td>\n",
       "      <td>776712.0</td>\n",
       "      <td>724086.0</td>\n",
       "      <td>832187.0</td>\n",
       "      <td>945795.0</td>\n",
       "      <td>975099.0</td>\n",
       "      <td>925980.0</td>\n",
       "      <td>814951.0</td>\n",
       "      <td>...</td>\n",
       "      <td>16722561.0</td>\n",
       "      <td>15231645.0</td>\n",
       "      <td>4194824.0</td>\n",
       "      <td>16.323484</td>\n",
       "      <td>18.603357</td>\n",
       "      <td>12.462991</td>\n",
       "      <td>0.250848</td>\n",
       "      <td>0.687152</td>\n",
       "      <td>65.073159</td>\n",
       "      <td>1.310224</td>\n",
       "    </tr>\n",
       "  </tbody>\n",
       "</table>\n",
       "<p>4 rows × 93 columns</p>\n",
       "</div>"
      ],
      "text/plain": [
       "Sex              Women                                                    \\\n",
       "Age              Total    0 to 4    5 to 9  10 to 14  15 to 19  20 to 24   \n",
       "Time                                                                       \n",
       "2017-01-01  12398090.0  767901.0  772832.0  716032.0  722532.0  840528.0   \n",
       "2018-01-01  12591646.0  764298.0  781107.0  736646.0  725700.0  849233.0   \n",
       "2019-01-01  12786368.0  761580.0  788307.0  756676.0  728456.0  850721.0   \n",
       "2020-01-01  12961702.0  755517.0  792689.0  776712.0  724086.0  832187.0   \n",
       "\n",
       "Sex                                                 ...       Total  \\\n",
       "Age         25 to 29  30 to 34  35 to 39  40 to 44  ...    15 to 64   \n",
       "Time                                                ...               \n",
       "2017-01-01  924383.0  924450.0  833090.0  806253.0  ...  16171910.0   \n",
       "2018-01-01  937224.0  941839.0  865201.0  800767.0  ...  16376963.0   \n",
       "2019-01-01  949146.0  959375.0  896946.0  802591.0  ...  16582988.0   \n",
       "2020-01-01  945795.0  975099.0  925980.0  814951.0  ...  16722561.0   \n",
       "\n",
       "Sex                                                                \\\n",
       "Age           20 to 64 65 and over Share of 65 and over - elderly   \n",
       "Time                                                                \n",
       "2017-01-01  14689310.0   3790842.0                      15.408762   \n",
       "2018-01-01  14886219.0   3912975.0                      15.662746   \n",
       "2019-01-01  15083887.0   4040130.0                      15.927504   \n",
       "2020-01-01  15231645.0   4194824.0                      16.323484   \n",
       "\n",
       "Sex                                                                \\\n",
       "Age        Share of under 15 - children Share of 15 to 24 - youth   \n",
       "Time                                                                \n",
       "2017-01-01                    18.856737                 13.014008   \n",
       "2018-01-01                    18.784008                 12.930470   \n",
       "2019-01-01                    18.696975                 12.808147   \n",
       "2020-01-01                    18.603357                 12.462991   \n",
       "\n",
       "Sex                                                      \\\n",
       "Age        Old age dependency ratio (65 and over/15-64)   \n",
       "Time                                                      \n",
       "2017-01-01                                     0.234409   \n",
       "2018-01-01                                     0.238932   \n",
       "2019-01-01                                     0.243631   \n",
       "2020-01-01                                     0.250848   \n",
       "\n",
       "Sex                                                      \\\n",
       "Age        Total dependency ratio ((<20 & 65+) / 20-64)   \n",
       "Time                                                      \n",
       "2017-01-01                                     0.674814   \n",
       "2018-01-01                                     0.678243   \n",
       "2019-01-01                                     0.681645   \n",
       "2020-01-01                                     0.687152   \n",
       "\n",
       "Sex                                         \\\n",
       "Age        Share of 15 to 64 - working age   \n",
       "Time                                         \n",
       "2017-01-01                       65.734501   \n",
       "2018-01-01                       65.553246   \n",
       "2019-01-01                       65.375521   \n",
       "2020-01-01                       65.073159   \n",
       "\n",
       "Sex                                                \n",
       "Age        Annual growth rate of total population  \n",
       "Time                                               \n",
       "2017-01-01                               1.698791  \n",
       "2018-01-01                               1.547964  \n",
       "2019-01-01                               1.533290  \n",
       "2020-01-01                               1.310224  \n",
       "\n",
       "[4 rows x 93 columns]"
      ]
     },
     "execution_count": 4,
     "metadata": {},
     "output_type": "execute_result"
    }
   ],
   "source": [
    "df['Australia']"
   ]
  },
  {
   "cell_type": "code",
   "execution_count": 5,
   "metadata": {},
   "outputs": [
    {
     "data": {
      "text/plain": [
       "MultiIndex([('Women',                                        'Total'),\n",
       "            ('Women',                                       '0 to 4'),\n",
       "            ('Women',                                       '5 to 9'),\n",
       "            ('Women',                                     '10 to 14'),\n",
       "            ('Women',                                     '15 to 19'),\n",
       "            ('Women',                                     '20 to 24'),\n",
       "            ('Women',                                     '25 to 29'),\n",
       "            ('Women',                                     '30 to 34'),\n",
       "            ('Women',                                     '35 to 39'),\n",
       "            ('Women',                                     '40 to 44'),\n",
       "            ('Women',                                     '45 to 49'),\n",
       "            ('Women',                                     '50 to 54'),\n",
       "            ('Women',                                     '55 to 59'),\n",
       "            ('Women',                                     '60 to 64'),\n",
       "            ('Women',                                     '65 to 69'),\n",
       "            ('Women',                                     '70 to 74'),\n",
       "            ('Women',                                     '75 to 79'),\n",
       "            ('Women',                                     '80 to 84'),\n",
       "            ('Women',                                  '85 and over'),\n",
       "            ('Women',                                  '50 and over'),\n",
       "            ('Women',                                     'Under 20'),\n",
       "            ('Women',                                     '15 to 64'),\n",
       "            ('Women',                                     '20 to 64'),\n",
       "            ('Women',                                  '65 and over'),\n",
       "            ('Women',               'Share of 65 and over - elderly'),\n",
       "            ('Women',                 'Share of under 15 - children'),\n",
       "            ('Women',                    'Share of 15 to 24 - youth'),\n",
       "            ('Women', 'Old age dependency ratio (65 and over/15-64)'),\n",
       "            ('Women', 'Total dependency ratio ((<20 & 65+) / 20-64)'),\n",
       "            ('Women',              'Share of 15 to 64 - working age'),\n",
       "            ('Women',       'Annual growth rate of total population'),\n",
       "            (  'Men',                                        'Total'),\n",
       "            (  'Men',                                       '0 to 4'),\n",
       "            (  'Men',                                       '5 to 9'),\n",
       "            (  'Men',                                     '10 to 14'),\n",
       "            (  'Men',                                     '15 to 19'),\n",
       "            (  'Men',                                     '20 to 24'),\n",
       "            (  'Men',                                     '25 to 29'),\n",
       "            (  'Men',                                     '30 to 34'),\n",
       "            (  'Men',                                     '35 to 39'),\n",
       "            (  'Men',                                     '40 to 44'),\n",
       "            (  'Men',                                     '45 to 49'),\n",
       "            (  'Men',                                     '50 to 54'),\n",
       "            (  'Men',                                     '55 to 59'),\n",
       "            (  'Men',                                     '60 to 64'),\n",
       "            (  'Men',                                     '65 to 69'),\n",
       "            (  'Men',                                     '70 to 74'),\n",
       "            (  'Men',                                     '75 to 79'),\n",
       "            (  'Men',                                     '80 to 84'),\n",
       "            (  'Men',                                  '85 and over'),\n",
       "            (  'Men',                                  '50 and over'),\n",
       "            (  'Men',                                     'Under 20'),\n",
       "            (  'Men',                                     '15 to 64'),\n",
       "            (  'Men',                                     '20 to 64'),\n",
       "            (  'Men',                                  '65 and over'),\n",
       "            (  'Men',               'Share of 65 and over - elderly'),\n",
       "            (  'Men',                 'Share of under 15 - children'),\n",
       "            (  'Men',                    'Share of 15 to 24 - youth'),\n",
       "            (  'Men', 'Old age dependency ratio (65 and over/15-64)'),\n",
       "            (  'Men', 'Total dependency ratio ((<20 & 65+) / 20-64)'),\n",
       "            (  'Men',              'Share of 15 to 64 - working age'),\n",
       "            (  'Men',       'Annual growth rate of total population'),\n",
       "            ('Total',                                        'Total'),\n",
       "            ('Total',                                       '0 to 4'),\n",
       "            ('Total',                                       '5 to 9'),\n",
       "            ('Total',                                     '10 to 14'),\n",
       "            ('Total',                                     '15 to 19'),\n",
       "            ('Total',                                     '20 to 24'),\n",
       "            ('Total',                                     '25 to 29'),\n",
       "            ('Total',                                     '30 to 34'),\n",
       "            ('Total',                                     '35 to 39'),\n",
       "            ('Total',                                     '40 to 44'),\n",
       "            ('Total',                                     '45 to 49'),\n",
       "            ('Total',                                     '50 to 54'),\n",
       "            ('Total',                                     '55 to 59'),\n",
       "            ('Total',                                     '60 to 64'),\n",
       "            ('Total',                                     '65 to 69'),\n",
       "            ('Total',                                     '70 to 74'),\n",
       "            ('Total',                                     '75 to 79'),\n",
       "            ('Total',                                     '80 to 84'),\n",
       "            ('Total',                                  '85 and over'),\n",
       "            ('Total',                                  '50 and over'),\n",
       "            ('Total',                                     'Under 20'),\n",
       "            ('Total',                                     '15 to 64'),\n",
       "            ('Total',                                     '20 to 64'),\n",
       "            ('Total',                                  '65 and over'),\n",
       "            ('Total',               'Share of 65 and over - elderly'),\n",
       "            ('Total',                 'Share of under 15 - children'),\n",
       "            ('Total',                    'Share of 15 to 24 - youth'),\n",
       "            ('Total', 'Old age dependency ratio (65 and over/15-64)'),\n",
       "            ('Total', 'Total dependency ratio ((<20 & 65+) / 20-64)'),\n",
       "            ('Total',              'Share of 15 to 64 - working age'),\n",
       "            ('Total',       'Annual growth rate of total population')],\n",
       "           names=['Sex', 'Age'])"
      ]
     },
     "execution_count": 5,
     "metadata": {},
     "output_type": "execute_result"
    }
   ],
   "source": [
    "df['Australia'].columns"
   ]
  },
  {
   "cell_type": "code",
   "execution_count": 6,
   "metadata": {},
   "outputs": [
    {
     "data": {
      "text/plain": [
       "Index(['Total', '0 to 4', '5 to 9', '10 to 14', '15 to 19', '20 to 24',\n",
       "       '25 to 29', '30 to 34', '35 to 39', '40 to 44', '45 to 49', '50 to 54',\n",
       "       '55 to 59', '60 to 64', '65 to 69', '70 to 74', '75 to 79', '80 to 84',\n",
       "       '85 and over', '50 and over', 'Under 20', '15 to 64', '20 to 64',\n",
       "       '65 and over', 'Share of 65 and over - elderly',\n",
       "       'Share of under 15 - children', 'Share of 15 to 24 - youth',\n",
       "       'Old age dependency ratio (65 and over/15-64)',\n",
       "       'Total dependency ratio ((<20 & 65+) / 20-64)',\n",
       "       'Share of 15 to 64 - working age',\n",
       "       'Annual growth rate of total population'],\n",
       "      dtype='object', name='Age')"
      ]
     },
     "execution_count": 6,
     "metadata": {},
     "output_type": "execute_result"
    }
   ],
   "source": [
    "df['Australia']['Total'].columns"
   ]
  },
  {
   "cell_type": "code",
   "execution_count": 7,
   "metadata": {},
   "outputs": [
    {
     "data": {
      "text/plain": [
       "Time\n",
       "2017-01-01    24601860.0\n",
       "2018-01-01    24982688.0\n",
       "2019-01-01    25365745.0\n",
       "2020-01-01    25698093.0\n",
       "Name: Total, dtype: float64"
      ]
     },
     "execution_count": 7,
     "metadata": {},
     "output_type": "execute_result"
    }
   ],
   "source": [
    "df['Australia']['Total']['Total']"
   ]
  },
  {
   "cell_type": "code",
   "execution_count": 8,
   "metadata": {},
   "outputs": [
    {
     "data": {
      "text/plain": [
       "Time\n",
       "2017-01-01    24601860.0\n",
       "2018-01-01    24982688.0\n",
       "2019-01-01    25365745.0\n",
       "2020-01-01    25698093.0\n",
       "Name: (Australia, Total, Total), dtype: float64"
      ]
     },
     "execution_count": 8,
     "metadata": {},
     "output_type": "execute_result"
    }
   ],
   "source": [
    "df[('Australia', 'Total', 'Total')]"
   ]
  },
  {
   "cell_type": "code",
   "execution_count": 9,
   "metadata": {},
   "outputs": [
    {
     "name": "stdout",
     "output_type": "stream",
     "text": [
      "{'Russia', 'Japan', 'Israel', 'Australia', 'Finland', 'Germany', 'World', 'Malta', 'Brazil', 'Bulgaria', 'Slovenia', 'Belgium', 'Slovak Republic', 'Netherlands', 'Estonia', 'Austria', 'Cyprus', 'European Union (27 countries)', 'Iceland', 'Hungary', 'New Zealand', 'OECD - Total', 'South Africa', 'Singapore', 'Switzerland', 'Portugal', 'Spain', \"China (People's Republic of)\", 'Turkey', 'India', 'Saudi Arabia', 'Greece', 'Luxembourg', 'United States', 'Mexico', 'France', 'Czech Republic', 'Denmark', 'Croatia', 'Sweden', 'Costa Rica', 'Colombia', 'G20', 'Korea', 'Poland', 'United Kingdom', 'Romania', 'Canada', 'Latvia', 'Ireland', 'Indonesia', 'Lithuania', 'Argentina', 'Chile', 'Norway', 'Italy'}\n"
     ]
    }
   ],
   "source": [
    "countries = set()\n",
    "for col in df.columns:\n",
    "    country, sex, age = col\n",
    "    countries.add(country)\n",
    "\n",
    "print(countries)\n",
    "\n"
   ]
  },
  {
   "cell_type": "code",
   "execution_count": 10,
   "metadata": {},
   "outputs": [],
   "source": [
    "import pprint"
   ]
  },
  {
   "cell_type": "code",
   "execution_count": 11,
   "metadata": {},
   "outputs": [
    {
     "name": "stdout",
     "output_type": "stream",
     "text": [
      "{'Argentina',\n",
      " 'Australia',\n",
      " 'Austria',\n",
      " 'Belgium',\n",
      " 'Brazil',\n",
      " 'Bulgaria',\n",
      " 'Canada',\n",
      " 'Chile',\n",
      " \"China (People's Republic of)\",\n",
      " 'Colombia',\n",
      " 'Costa Rica',\n",
      " 'Croatia',\n",
      " 'Cyprus',\n",
      " 'Czech Republic',\n",
      " 'Denmark',\n",
      " 'Estonia',\n",
      " 'European Union (27 countries)',\n",
      " 'Finland',\n",
      " 'France',\n",
      " 'G20',\n",
      " 'Germany',\n",
      " 'Greece',\n",
      " 'Hungary',\n",
      " 'Iceland',\n",
      " 'India',\n",
      " 'Indonesia',\n",
      " 'Ireland',\n",
      " 'Israel',\n",
      " 'Italy',\n",
      " 'Japan',\n",
      " 'Korea',\n",
      " 'Latvia',\n",
      " 'Lithuania',\n",
      " 'Luxembourg',\n",
      " 'Malta',\n",
      " 'Mexico',\n",
      " 'Netherlands',\n",
      " 'New Zealand',\n",
      " 'Norway',\n",
      " 'OECD - Total',\n",
      " 'Poland',\n",
      " 'Portugal',\n",
      " 'Romania',\n",
      " 'Russia',\n",
      " 'Saudi Arabia',\n",
      " 'Singapore',\n",
      " 'Slovak Republic',\n",
      " 'Slovenia',\n",
      " 'South Africa',\n",
      " 'Spain',\n",
      " 'Sweden',\n",
      " 'Switzerland',\n",
      " 'Turkey',\n",
      " 'United Kingdom',\n",
      " 'United States',\n",
      " 'World'}\n"
     ]
    }
   ],
   "source": [
    "pprint.pprint(countries)"
   ]
  },
  {
   "cell_type": "code",
   "execution_count": 12,
   "metadata": {},
   "outputs": [
    {
     "data": {
      "text/plain": [
       "Time\n",
       "2017-01-01    51361911.0\n",
       "2018-01-01    51606633.0\n",
       "2019-01-01    51709098.0\n",
       "2020-01-01    51780579.0\n",
       "Name: (Korea, Total, Total), dtype: float64"
      ]
     },
     "execution_count": 12,
     "metadata": {},
     "output_type": "execute_result"
    }
   ],
   "source": [
    "df[('Korea', 'Total', 'Total')]"
   ]
  },
  {
   "cell_type": "code",
   "execution_count": 13,
   "metadata": {},
   "outputs": [
    {
     "data": {
      "text/html": [
       "<div>\n",
       "<style scoped>\n",
       "    .dataframe tbody tr th:only-of-type {\n",
       "        vertical-align: middle;\n",
       "    }\n",
       "\n",
       "    .dataframe tbody tr th {\n",
       "        vertical-align: top;\n",
       "    }\n",
       "\n",
       "    .dataframe thead tr th {\n",
       "        text-align: left;\n",
       "    }\n",
       "\n",
       "    .dataframe thead tr:last-of-type th {\n",
       "        text-align: right;\n",
       "    }\n",
       "</style>\n",
       "<table border=\"1\" class=\"dataframe\">\n",
       "  <thead>\n",
       "    <tr>\n",
       "      <th>Country</th>\n",
       "      <th>Korea</th>\n",
       "      <th>China (People's Republic of)</th>\n",
       "      <th>Japan</th>\n",
       "      <th>Russia</th>\n",
       "      <th>United States</th>\n",
       "      <th>World</th>\n",
       "    </tr>\n",
       "    <tr>\n",
       "      <th>Sex</th>\n",
       "      <th>Total</th>\n",
       "      <th>Total</th>\n",
       "      <th>Total</th>\n",
       "      <th>Total</th>\n",
       "      <th>Total</th>\n",
       "      <th>Total</th>\n",
       "    </tr>\n",
       "    <tr>\n",
       "      <th>Age</th>\n",
       "      <th>Total</th>\n",
       "      <th>Total</th>\n",
       "      <th>Total</th>\n",
       "      <th>Total</th>\n",
       "      <th>Total</th>\n",
       "      <th>Total</th>\n",
       "    </tr>\n",
       "    <tr>\n",
       "      <th>Time</th>\n",
       "      <th></th>\n",
       "      <th></th>\n",
       "      <th></th>\n",
       "      <th></th>\n",
       "      <th></th>\n",
       "      <th></th>\n",
       "    </tr>\n",
       "  </thead>\n",
       "  <tbody>\n",
       "    <tr>\n",
       "      <th>2017-01-01</th>\n",
       "      <td>51361911.0</td>\n",
       "      <td>1.421022e+09</td>\n",
       "      <td>126706210.0</td>\n",
       "      <td>146842404.0</td>\n",
       "      <td>325122128.0</td>\n",
       "      <td>7.547859e+09</td>\n",
       "    </tr>\n",
       "    <tr>\n",
       "      <th>2018-01-01</th>\n",
       "      <td>51606633.0</td>\n",
       "      <td>1.427648e+09</td>\n",
       "      <td>126443180.0</td>\n",
       "      <td>146830572.0</td>\n",
       "      <td>326838199.0</td>\n",
       "      <td>7.631091e+09</td>\n",
       "    </tr>\n",
       "    <tr>\n",
       "      <th>2019-01-01</th>\n",
       "      <td>51709098.0</td>\n",
       "      <td>1.433784e+09</td>\n",
       "      <td>126166948.0</td>\n",
       "      <td>146764661.0</td>\n",
       "      <td>328329953.0</td>\n",
       "      <td>7.713468e+09</td>\n",
       "    </tr>\n",
       "    <tr>\n",
       "      <th>2020-01-01</th>\n",
       "      <td>51780579.0</td>\n",
       "      <td>1.439324e+09</td>\n",
       "      <td>125708000.0</td>\n",
       "      <td>146459803.0</td>\n",
       "      <td>329484123.0</td>\n",
       "      <td>7.794799e+09</td>\n",
       "    </tr>\n",
       "  </tbody>\n",
       "</table>\n",
       "</div>"
      ],
      "text/plain": [
       "Country          Korea China (People's Republic of)        Japan       Russia  \\\n",
       "Sex              Total                        Total        Total        Total   \n",
       "Age              Total                        Total        Total        Total   \n",
       "Time                                                                            \n",
       "2017-01-01  51361911.0                 1.421022e+09  126706210.0  146842404.0   \n",
       "2018-01-01  51606633.0                 1.427648e+09  126443180.0  146830572.0   \n",
       "2019-01-01  51709098.0                 1.433784e+09  126166948.0  146764661.0   \n",
       "2020-01-01  51780579.0                 1.439324e+09  125708000.0  146459803.0   \n",
       "\n",
       "Country    United States         World  \n",
       "Sex                Total         Total  \n",
       "Age                Total         Total  \n",
       "Time                                    \n",
       "2017-01-01   325122128.0  7.547859e+09  \n",
       "2018-01-01   326838199.0  7.631091e+09  \n",
       "2019-01-01   328329953.0  7.713468e+09  \n",
       "2020-01-01   329484123.0  7.794799e+09  "
      ]
     },
     "execution_count": 13,
     "metadata": {},
     "output_type": "execute_result"
    }
   ],
   "source": [
    "df[[('Korea', 'Total', 'Total'), \n",
    "('China (People\\'s Republic of)', 'Total', 'Total'), \n",
    "('Japan', 'Total', 'Total'), \n",
    "('Russia', 'Total', 'Total'), \n",
    "('United States', 'Total', 'Total'), \n",
    "('World', 'Total', 'Total')]]"
   ]
  },
  {
   "cell_type": "code",
   "execution_count": 14,
   "metadata": {},
   "outputs": [
    {
     "data": {
      "text/plain": [
       "Country                       Sex    Age  \n",
       "Korea                         Total  Total    float64\n",
       "China (People's Republic of)  Total  Total    float64\n",
       "Japan                         Total  Total    float64\n",
       "Russia                        Total  Total    float64\n",
       "United States                 Total  Total    float64\n",
       "World                         Total  Total    float64\n",
       "dtype: object"
      ]
     },
     "execution_count": 14,
     "metadata": {},
     "output_type": "execute_result"
    }
   ],
   "source": [
    "df[[('Korea', 'Total', 'Total'), \n",
    "('China (People\\'s Republic of)', 'Total', 'Total'), \n",
    "('Japan', 'Total', 'Total'), \n",
    "('Russia', 'Total', 'Total'), \n",
    "('United States', 'Total', 'Total'), \n",
    "('World', 'Total', 'Total')]].dtypes"
   ]
  },
  {
   "cell_type": "code",
   "execution_count": 15,
   "metadata": {},
   "outputs": [
    {
     "data": {
      "text/plain": [
       "Country                        Sex    Age                                         \n",
       "Australia                      Women  Total                                           float64\n",
       "                                      0 to 4                                          float64\n",
       "                                      5 to 9                                          float64\n",
       "                                      10 to 14                                        float64\n",
       "                                      15 to 19                                        float64\n",
       "                                                                                       ...   \n",
       "European Union (27 countries)  Total  Share of 15 to 24 - youth                       float64\n",
       "                                      Old age dependency ratio (65 and over/15-64)    float64\n",
       "                                      Total dependency ratio ((<20 & 65+) / 20-64)    float64\n",
       "                                      Share of 15 to 64 - working age                 float64\n",
       "                                      Annual growth rate of total population          float64\n",
       "Length: 5208, dtype: object"
      ]
     },
     "execution_count": 15,
     "metadata": {},
     "output_type": "execute_result"
    }
   ],
   "source": [
    "df.dtypes"
   ]
  },
  {
   "cell_type": "code",
   "execution_count": 16,
   "metadata": {},
   "outputs": [
    {
     "data": {
      "text/plain": [
       "Country                       Sex    Age  \n",
       "Korea                         Total  Total    5.178058e+07\n",
       "China (People's Republic of)  Total  Total    1.439324e+09\n",
       "Japan                         Total  Total    1.257080e+08\n",
       "Russia                        Total  Total    1.464598e+08\n",
       "United States                 Total  Total    3.294841e+08\n",
       "World                         Total  Total    7.794799e+09\n",
       "Name: 2020-01-01 00:00:00, dtype: float64"
      ]
     },
     "execution_count": 16,
     "metadata": {},
     "output_type": "execute_result"
    }
   ],
   "source": [
    "df.loc['2020-01-01', [('Korea', 'Total', 'Total'), \n",
    "('China (People\\'s Republic of)', 'Total', 'Total'), \n",
    "('Japan', 'Total', 'Total'), \n",
    "('Russia', 'Total', 'Total'), \n",
    "('United States', 'Total', 'Total'), \n",
    "('World', 'Total', 'Total')]]"
   ]
  },
  {
   "cell_type": "code",
   "execution_count": 17,
   "metadata": {},
   "outputs": [
    {
     "data": {
      "text/plain": [
       "Country                       Sex    Age  \n",
       "Korea                         Total  Total    5.178058e+07\n",
       "China (People's Republic of)  Total  Total    1.439324e+09\n",
       "Japan                         Total  Total    1.257080e+08\n",
       "Russia                        Total  Total    1.464598e+08\n",
       "United States                 Total  Total    3.294841e+08\n",
       "World                         Total  Total    7.794799e+09\n",
       "Name: 2020-01-01 00:00:00, dtype: float64"
      ]
     },
     "execution_count": 17,
     "metadata": {},
     "output_type": "execute_result"
    }
   ],
   "source": [
    "df.loc[pd.to_datetime('2020-01-01'), [('Korea', 'Total', 'Total'), \n",
    "('China (People\\'s Republic of)', 'Total', 'Total'), \n",
    "('Japan', 'Total', 'Total'), \n",
    "('Russia', 'Total', 'Total'), \n",
    "('United States', 'Total', 'Total'), \n",
    "('World', 'Total', 'Total')]]"
   ]
  },
  {
   "cell_type": "code",
   "execution_count": null,
   "metadata": {},
   "outputs": [],
   "source": []
  }
 ],
 "metadata": {
  "interpreter": {
   "hash": "533d0053092db241bd8e1cd1b682e01dcebe17caa21008d614b7d24f21407125"
  },
  "kernelspec": {
   "display_name": "Python 3.8.10 64-bit",
   "language": "python",
   "name": "python3"
  },
  "language_info": {
   "codemirror_mode": {
    "name": "ipython",
    "version": 3
   },
   "file_extension": ".py",
   "mimetype": "text/x-python",
   "name": "python",
   "nbconvert_exporter": "python",
   "pygments_lexer": "ipython3",
   "version": "3.8.10"
  },
  "orig_nbformat": 4
 },
 "nbformat": 4,
 "nbformat_minor": 2
}
