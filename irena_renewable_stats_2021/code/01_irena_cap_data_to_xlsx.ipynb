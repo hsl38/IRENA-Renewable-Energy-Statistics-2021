{
 "cells": [
  {
   "cell_type": "code",
   "execution_count": null,
   "metadata": {},
   "outputs": [],
   "source": [
    "# irena에서 다운로드 받은 데이터는\n",
    "#   csv 형식 파일이다.\n",
    "#   capacity와 generation 데이터가 각각 있다.\n",
    "#   capacity는 각각 off-grid와 on-grid 파일로 되어있다.\n",
    "# 이 inpynb는 \n",
    "#   on-grid와 off-grid 데이터 파일들을 합친다.\n",
    "#   컬럼 이름을 바꾼다.\n",
    "#   컬럼별 데이터 형식을 지정한다.\n",
    "#   xlsx 형식으로 저장한다."
   ]
  },
  {
   "cell_type": "code",
   "execution_count": 35,
   "metadata": {},
   "outputs": [],
   "source": [
    "import os\n",
    "import pandas as pd"
   ]
  },
  {
   "cell_type": "code",
   "execution_count": 36,
   "metadata": {},
   "outputs": [],
   "source": [
    "def df_info(df):\n",
    "    print('columns:\\n', df.columns)\n",
    "    print(f'\\nsize: {df.shape[0]} x {df.shape[1]}\\n')\n",
    "    print(df.head(5))\n",
    "    print()\n",
    "    print(df.tail(5))"
   ]
  },
  {
   "cell_type": "code",
   "execution_count": 37,
   "metadata": {},
   "outputs": [
    {
     "name": "stdout",
     "output_type": "stream",
     "text": [
      "columns:\n",
      " Index(['Country/area', 'Technology', 'Grid connection', 'Year',\n",
      "       'Installed electricity capacity by country/area (MW)'],\n",
      "      dtype='object')\n",
      "\n",
      "size: 97902 x 5\n",
      "\n",
      "  Country/area                  Technology Grid connection  Year  \\\n",
      "0  Afghanistan  On-grid Solar photovoltaic        Off-grid  2000   \n",
      "1  Afghanistan  On-grid Solar photovoltaic        Off-grid  2001   \n",
      "2  Afghanistan  On-grid Solar photovoltaic        Off-grid  2002   \n",
      "3  Afghanistan  On-grid Solar photovoltaic        Off-grid  2003   \n",
      "4  Afghanistan  On-grid Solar photovoltaic        Off-grid  2004   \n",
      "\n",
      "  Installed electricity capacity by country/area (MW)  \n",
      "0                                                 ..   \n",
      "1                                                 ..   \n",
      "2                                                 ..   \n",
      "3                                                 ..   \n",
      "4                                                 ..   \n",
      "\n",
      "      Country/area                  Technology Grid connection  Year  \\\n",
      "97897     Zimbabwe  Other non-renewable energy        Off-grid  2016   \n",
      "97898     Zimbabwe  Other non-renewable energy        Off-grid  2017   \n",
      "97899     Zimbabwe  Other non-renewable energy        Off-grid  2018   \n",
      "97900     Zimbabwe  Other non-renewable energy        Off-grid  2019   \n",
      "97901     Zimbabwe  Other non-renewable energy        Off-grid  2020   \n",
      "\n",
      "      Installed electricity capacity by country/area (MW)  \n",
      "97897                                                 ..   \n",
      "97898                                                 ..   \n",
      "97899                                                 ..   \n",
      "97900                                                 ..   \n",
      "97901                                                 ..   \n",
      "columns:\n",
      " Index(['Country/area', 'Technology', 'Grid connection', 'Year',\n",
      "       'Installed electricity capacity by country/area (MW)'],\n",
      "      dtype='object')\n",
      "\n",
      "size: 97902 x 5\n",
      "\n",
      "  Country/area                  Technology Grid connection  Year  \\\n",
      "0  Afghanistan  On-grid Solar photovoltaic         On-grid  2000   \n",
      "1  Afghanistan  On-grid Solar photovoltaic         On-grid  2001   \n",
      "2  Afghanistan  On-grid Solar photovoltaic         On-grid  2002   \n",
      "3  Afghanistan  On-grid Solar photovoltaic         On-grid  2003   \n",
      "4  Afghanistan  On-grid Solar photovoltaic         On-grid  2004   \n",
      "\n",
      "  Installed electricity capacity by country/area (MW)  \n",
      "0                                                 ..   \n",
      "1                                                 ..   \n",
      "2                                                 ..   \n",
      "3                                                 ..   \n",
      "4                                                 ..   \n",
      "\n",
      "      Country/area                  Technology Grid connection  Year  \\\n",
      "97897     Zimbabwe  Other non-renewable energy         On-grid  2016   \n",
      "97898     Zimbabwe  Other non-renewable energy         On-grid  2017   \n",
      "97899     Zimbabwe  Other non-renewable energy         On-grid  2018   \n",
      "97900     Zimbabwe  Other non-renewable energy         On-grid  2019   \n",
      "97901     Zimbabwe  Other non-renewable energy         On-grid  2020   \n",
      "\n",
      "      Installed electricity capacity by country/area (MW)  \n",
      "97897                                                 ..   \n",
      "97898                                                 ..   \n",
      "97899                                                 ..   \n",
      "97900                                                 ..   \n",
      "97901                                                 ..   \n",
      "columns:\n",
      " Index(['country', 'technology', 'grid', 'year', 'capacity'], dtype='object')\n",
      "\n",
      "size: 195804 x 5\n",
      "\n",
      "       country                  technology      grid  year  capacity\n",
      "0  Afghanistan  On-grid Solar photovoltaic  Off-grid  2000       0.0\n",
      "1  Afghanistan  On-grid Solar photovoltaic  Off-grid  2001       0.0\n",
      "2  Afghanistan  On-grid Solar photovoltaic  Off-grid  2002       0.0\n",
      "3  Afghanistan  On-grid Solar photovoltaic  Off-grid  2003       0.0\n",
      "4  Afghanistan  On-grid Solar photovoltaic  Off-grid  2004       0.0\n",
      "\n",
      "        country                  technology     grid  year  capacity\n",
      "97897  Zimbabwe  Other non-renewable energy  On-grid  2016       0.0\n",
      "97898  Zimbabwe  Other non-renewable energy  On-grid  2017       0.0\n",
      "97899  Zimbabwe  Other non-renewable energy  On-grid  2018       0.0\n",
      "97900  Zimbabwe  Other non-renewable energy  On-grid  2019       0.0\n",
      "97901  Zimbabwe  Other non-renewable energy  On-grid  2020       0.0\n"
     ]
    }
   ],
   "source": [
    "data_dir = r'..\\data'\n",
    "os.chdir(data_dir)\n",
    "df_cap = pd.read_csv(r'ELECCAP_20211118-014713_all_off_grid.csv', skiprows=2, encoding='CP1252')\n",
    "df_info(df_cap)\n",
    "df_cap_1 = pd.read_csv(r'ELECCAP_20211118-014747_all_on_grid.csv', skiprows=2, encoding='CP1252')\n",
    "df_info(df_cap_1)\n",
    "df_cap = pd.concat([df_cap, df_cap_1])\n",
    "df_cap.columns = ['country', 'technology', 'grid', 'year', 'capacity']\n",
    "df_cap.loc[df_cap['capacity'] == '..', 'capacity'] = 0\n",
    "df_cap = df_cap.astype({'country': str, 'technology': str, 'grid': str, 'year': int, 'capacity': float})\n",
    "df_info(df_cap)\n",
    "df_cap.to_excel('irena_eleccap_2021.xlsx', index=False)"
   ]
  }
 ],
 "metadata": {
  "interpreter": {
   "hash": "533d0053092db241bd8e1cd1b682e01dcebe17caa21008d614b7d24f21407125"
  },
  "kernelspec": {
   "display_name": "Python 3.8.10 64-bit",
   "language": "python",
   "name": "python3"
  },
  "language_info": {
   "codemirror_mode": {
    "name": "ipython",
    "version": 3
   },
   "file_extension": ".py",
   "mimetype": "text/x-python",
   "name": "python",
   "nbconvert_exporter": "python",
   "pygments_lexer": "ipython3",
   "version": "3.8.10"
  },
  "orig_nbformat": 4
 },
 "nbformat": 4,
 "nbformat_minor": 2
}
