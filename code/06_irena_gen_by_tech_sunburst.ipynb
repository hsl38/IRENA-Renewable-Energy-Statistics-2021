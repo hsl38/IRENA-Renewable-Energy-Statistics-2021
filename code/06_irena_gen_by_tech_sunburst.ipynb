{
 "cells": [
  {
   "cell_type": "code",
   "execution_count": 1,
   "metadata": {},
   "outputs": [
    {
     "data": {
      "text/plain": [
       "'\\n    IRENA Electricity 보고서의 데이터를 그래프로 출력한다.\\n\\n    todo\\n    [] 그래프를 plotly로 출력한다.\\n    [] G20 그래프를 그린다.\\n    [] G8 그래프를 그린다.\\n'"
      ]
     },
     "execution_count": 1,
     "metadata": {},
     "output_type": "execute_result"
    }
   ],
   "source": [
    "'''\n",
    "    IRENA Electricity 보고서의 데이터를 그래프로 출력한다.\n",
    "\n",
    "    todo\n",
    "    [] 그래프를 plotly로 출력한다.\n",
    "    [] G20 그래프를 그린다.\n",
    "    [] G8 그래프를 그린다.\n",
    "'''\n"
   ]
  },
  {
   "cell_type": "code",
   "execution_count": 1,
   "metadata": {},
   "outputs": [],
   "source": [
    "import os\n",
    "import sys\n",
    "import pandas as pd\n",
    "import matplotlib.pylab as plt\n",
    "from matplotlib import font_manager\n",
    "\n",
    "import pprint\n",
    "import numpy as np"
   ]
  },
  {
   "cell_type": "code",
   "execution_count": 2,
   "metadata": {},
   "outputs": [],
   "source": [
    "# pandas configuration\n",
    "pd.set_option('display.max_columns', 10)\n",
    "pd.set_option('display.max_rows', 50)"
   ]
  },
  {
   "cell_type": "code",
   "execution_count": 3,
   "metadata": {},
   "outputs": [],
   "source": [
    "# constants\n",
    "k_figsave = False\n",
    "k_figsave = True\n",
    "k_data_dir = '..\\\\data'\n",
    "\n",
    "# _01: 긴 국가명을 짧은 국가명으로 바꿨다. USA, UK, Russia\n",
    "k_merged_data_file_name = r'irena_elec_2021_01.xlsx'\n",
    "\n",
    "# oecd를 focus countries로 바꿨다. Russia 추가\n",
    "k_focus_country_file_name = r'focus_countries.xlsx'\n",
    "\n",
    "k_top_n = 30\n",
    "k_rank_ul_min = 20\n",
    "k_rank_ul_max = 40"
   ]
  },
  {
   "cell_type": "code",
   "execution_count": 4,
   "metadata": {},
   "outputs": [],
   "source": [
    "def df_info(df, verbose):\n",
    "    if verbose:\n",
    "        print(f'size: {df.shape[0]} x {df.shape[1]}\\n')\n",
    "        print('head(5):')\n",
    "        print(df.head(5))\n",
    "        print('...')\n",
    "        print('tail(5):')\n",
    "        print(df.tail(5))\n",
    "        print('columns:')\n",
    "        print(df.columns)\n",
    "        for column in df.columns:\n",
    "            print(f'{column}:')\n",
    "            print(f'# of unique values: {len(df[column].unique())}')\n",
    "            print(f'values: {df[column].unique()}')\n"
   ]
  },
  {
   "cell_type": "code",
   "execution_count": 5,
   "metadata": {},
   "outputs": [],
   "source": [
    "\n",
    "def get_rank_ul(rank, df):\n",
    "\n",
    "    if rank < k_rank_ul_min:\n",
    "        rank_ul = k_rank_ul_min\n",
    "    elif rank < k_rank_ul_max - 5:\n",
    "        rank_ul = rank + 5\n",
    "    elif rank < k_rank_ul_max:\n",
    "        rank_ul = k_rank_ul_max\n",
    "    else: # 한국 미포함이면 k_rank_ul_min으로\n",
    "        rank_ul = k_rank_ul_min\n",
    "\n",
    "    while df.iloc[rank_ul]['capacity'] == 0:\n",
    "        if rank_ul <= k_rank_ul_min:\n",
    "            rank_ul = k_rank_ul_min\n",
    "            break\n",
    "        rank_ul = - 1\n",
    "\n",
    "    return rank_ul\n"
   ]
  },
  {
   "cell_type": "code",
   "execution_count": 6,
   "metadata": {},
   "outputs": [],
   "source": [
    "def save_or_show_fig(save, file_name):\n",
    "    if save:\n",
    "        plt.savefig(file_name)\n",
    "        print(f'\\t{file_name}')\n",
    "    else:\n",
    "        plt.show()\n",
    "    plt.cla()\n",
    "    plt.clf()\n",
    "    plt.close('all')\n"
   ]
  },
  {
   "cell_type": "code",
   "execution_count": 4,
   "metadata": {},
   "outputs": [],
   "source": [
    "def plt_configuration():\n",
    "    # from matplotlib import font_manager\n",
    "\n",
    "    k_font_path_n_name = 'C:\\\\Windows\\\\Fonts\\\\malgun.ttf'\n",
    "\n",
    "    font = font_manager.FontProperties(\n",
    "        fname=k_font_path_n_name).get_name()  # 한글 출력\n",
    "    plt.rcParams['font.family'] = font\n",
    "    plt.rcParams['font.size'] = 9\n",
    "    # 파워포인트 슬라이드를 만들기에 16:9 비율이 편리하다.\n",
    "    # plt.rcParams['figure.figsize'] = (16, 9)\n",
    "\n",
    "    # 티스토리에 첨부하기에는 4:3 비율이 편리하다.\n",
    "    plt.rcParams['figure.figsize'] = (12, 9)\n",
    "\n",
    "    # plt.rcParams['figure.figsize'] = (16, 12)    # 파워포인트 슬라이드를 만들기에 4:3 비율이 필요할 때를 위해서\n",
    "    plt.rcParams['axes.unicode_minus'] = False\n"
   ]
  },
  {
   "cell_type": "code",
   "execution_count": 5,
   "metadata": {},
   "outputs": [],
   "source": [
    "plt_configuration()"
   ]
  },
  {
   "cell_type": "code",
   "execution_count": 6,
   "metadata": {},
   "outputs": [
    {
     "name": "stdout",
     "output_type": "stream",
     "text": [
      "home directory: C:\\Users\\haese\\OneDrive\\project\\공데시\\IRENA\\py\n"
     ]
    }
   ],
   "source": [
    "home_dir = os.getcwd()\n",
    "print(f'home directory: {home_dir}')\n",
    "\n",
    "k_data_dir = '..\\\\data'\n",
    "os.chdir(k_data_dir)"
   ]
  },
  {
   "cell_type": "code",
   "execution_count": 7,
   "metadata": {},
   "outputs": [
    {
     "name": "stdout",
     "output_type": "stream",
     "text": [
      "reading df ...\n"
     ]
    }
   ],
   "source": [
    "print('reading df ...')\n",
    "df_irena = pd.read_excel(k_merged_data_file_name)"
   ]
  },
  {
   "cell_type": "code",
   "execution_count": 8,
   "metadata": {},
   "outputs": [],
   "source": [
    "renewables = [\n",
    "    # 'Nuclear',    \n",
    "    'On-grid Solar photovoltaic',\n",
    "    'Off-grid Solar photovoltaic',\n",
    "    'Concentrated solar power',\n",
    "    'Onshore wind energy',\n",
    "    'Offshore wind energy',\n",
    "    'Renewable hydropower',\n",
    "    'Mixed Hydro Plants',\n",
    "    'Pumped storage',\n",
    "    'Solid biofuels',\n",
    "    'Renewable municipal waste',\n",
    "    'Liquid biofuels',\n",
    "    'Biogas',\n",
    "    'Geothermal energy',\n",
    "    'Marine energy',\n",
    "    'Other non-renewable energy',\n",
    "]\n"
   ]
  },
  {
   "cell_type": "code",
   "execution_count": 9,
   "metadata": {},
   "outputs": [
    {
     "data": {
      "text/html": [
       "<div>\n",
       "<style scoped>\n",
       "    .dataframe tbody tr th:only-of-type {\n",
       "        vertical-align: middle;\n",
       "    }\n",
       "\n",
       "    .dataframe tbody tr th {\n",
       "        vertical-align: top;\n",
       "    }\n",
       "\n",
       "    .dataframe thead th {\n",
       "        text-align: right;\n",
       "    }\n",
       "</style>\n",
       "<table border=\"1\" class=\"dataframe\">\n",
       "  <thead>\n",
       "    <tr style=\"text-align: right;\">\n",
       "      <th></th>\n",
       "      <th>country</th>\n",
       "      <th>technology</th>\n",
       "      <th>grid</th>\n",
       "      <th>year</th>\n",
       "      <th>capacity</th>\n",
       "      <th>generation</th>\n",
       "      <th>utilization</th>\n",
       "      <th>type1</th>\n",
       "    </tr>\n",
       "  </thead>\n",
       "  <tbody>\n",
       "    <tr>\n",
       "      <th>294</th>\n",
       "      <td>Afghanistan</td>\n",
       "      <td>Fossil fuels</td>\n",
       "      <td>Off-grid</td>\n",
       "      <td>2000</td>\n",
       "      <td>26.93</td>\n",
       "      <td>1.6</td>\n",
       "      <td>0.059413</td>\n",
       "      <td>non-renewable</td>\n",
       "    </tr>\n",
       "    <tr>\n",
       "      <th>295</th>\n",
       "      <td>Afghanistan</td>\n",
       "      <td>Fossil fuels</td>\n",
       "      <td>Off-grid</td>\n",
       "      <td>2001</td>\n",
       "      <td>26.93</td>\n",
       "      <td>1.6</td>\n",
       "      <td>0.059413</td>\n",
       "      <td>non-renewable</td>\n",
       "    </tr>\n",
       "    <tr>\n",
       "      <th>296</th>\n",
       "      <td>Afghanistan</td>\n",
       "      <td>Fossil fuels</td>\n",
       "      <td>Off-grid</td>\n",
       "      <td>2002</td>\n",
       "      <td>26.93</td>\n",
       "      <td>1.6</td>\n",
       "      <td>0.059413</td>\n",
       "      <td>non-renewable</td>\n",
       "    </tr>\n",
       "    <tr>\n",
       "      <th>297</th>\n",
       "      <td>Afghanistan</td>\n",
       "      <td>Fossil fuels</td>\n",
       "      <td>Off-grid</td>\n",
       "      <td>2003</td>\n",
       "      <td>26.93</td>\n",
       "      <td>1.6</td>\n",
       "      <td>0.059413</td>\n",
       "      <td>non-renewable</td>\n",
       "    </tr>\n",
       "    <tr>\n",
       "      <th>298</th>\n",
       "      <td>Afghanistan</td>\n",
       "      <td>Fossil fuels</td>\n",
       "      <td>Off-grid</td>\n",
       "      <td>2004</td>\n",
       "      <td>26.93</td>\n",
       "      <td>1.6</td>\n",
       "      <td>0.059413</td>\n",
       "      <td>non-renewable</td>\n",
       "    </tr>\n",
       "    <tr>\n",
       "      <th>...</th>\n",
       "      <td>...</td>\n",
       "      <td>...</td>\n",
       "      <td>...</td>\n",
       "      <td>...</td>\n",
       "      <td>...</td>\n",
       "      <td>...</td>\n",
       "      <td>...</td>\n",
       "      <td>...</td>\n",
       "    </tr>\n",
       "    <tr>\n",
       "      <th>195778</th>\n",
       "      <td>Zimbabwe</td>\n",
       "      <td>Fossil fuels n.e.s.</td>\n",
       "      <td>On-grid</td>\n",
       "      <td>2016</td>\n",
       "      <td>0.00</td>\n",
       "      <td>NaN</td>\n",
       "      <td>NaN</td>\n",
       "      <td>non-renewable</td>\n",
       "    </tr>\n",
       "    <tr>\n",
       "      <th>195779</th>\n",
       "      <td>Zimbabwe</td>\n",
       "      <td>Fossil fuels n.e.s.</td>\n",
       "      <td>On-grid</td>\n",
       "      <td>2017</td>\n",
       "      <td>0.00</td>\n",
       "      <td>NaN</td>\n",
       "      <td>NaN</td>\n",
       "      <td>non-renewable</td>\n",
       "    </tr>\n",
       "    <tr>\n",
       "      <th>195780</th>\n",
       "      <td>Zimbabwe</td>\n",
       "      <td>Fossil fuels n.e.s.</td>\n",
       "      <td>On-grid</td>\n",
       "      <td>2018</td>\n",
       "      <td>0.00</td>\n",
       "      <td>NaN</td>\n",
       "      <td>NaN</td>\n",
       "      <td>non-renewable</td>\n",
       "    </tr>\n",
       "    <tr>\n",
       "      <th>195781</th>\n",
       "      <td>Zimbabwe</td>\n",
       "      <td>Fossil fuels n.e.s.</td>\n",
       "      <td>On-grid</td>\n",
       "      <td>2019</td>\n",
       "      <td>0.00</td>\n",
       "      <td>NaN</td>\n",
       "      <td>NaN</td>\n",
       "      <td>non-renewable</td>\n",
       "    </tr>\n",
       "    <tr>\n",
       "      <th>195782</th>\n",
       "      <td>Zimbabwe</td>\n",
       "      <td>Fossil fuels n.e.s.</td>\n",
       "      <td>On-grid</td>\n",
       "      <td>2020</td>\n",
       "      <td>0.00</td>\n",
       "      <td>NaN</td>\n",
       "      <td>NaN</td>\n",
       "      <td>non-renewable</td>\n",
       "    </tr>\n",
       "  </tbody>\n",
       "</table>\n",
       "<p>55944 rows × 8 columns</p>\n",
       "</div>"
      ],
      "text/plain": [
       "            country           technology      grid  year  capacity  \\\n",
       "294     Afghanistan         Fossil fuels  Off-grid  2000     26.93   \n",
       "295     Afghanistan         Fossil fuels  Off-grid  2001     26.93   \n",
       "296     Afghanistan         Fossil fuels  Off-grid  2002     26.93   \n",
       "297     Afghanistan         Fossil fuels  Off-grid  2003     26.93   \n",
       "298     Afghanistan         Fossil fuels  Off-grid  2004     26.93   \n",
       "...             ...                  ...       ...   ...       ...   \n",
       "195778     Zimbabwe  Fossil fuels n.e.s.   On-grid  2016      0.00   \n",
       "195779     Zimbabwe  Fossil fuels n.e.s.   On-grid  2017      0.00   \n",
       "195780     Zimbabwe  Fossil fuels n.e.s.   On-grid  2018      0.00   \n",
       "195781     Zimbabwe  Fossil fuels n.e.s.   On-grid  2019      0.00   \n",
       "195782     Zimbabwe  Fossil fuels n.e.s.   On-grid  2020      0.00   \n",
       "\n",
       "        generation  utilization          type1  \n",
       "294            1.6     0.059413  non-renewable  \n",
       "295            1.6     0.059413  non-renewable  \n",
       "296            1.6     0.059413  non-renewable  \n",
       "297            1.6     0.059413  non-renewable  \n",
       "298            1.6     0.059413  non-renewable  \n",
       "...            ...          ...            ...  \n",
       "195778         NaN          NaN  non-renewable  \n",
       "195779         NaN          NaN  non-renewable  \n",
       "195780         NaN          NaN  non-renewable  \n",
       "195781         NaN          NaN  non-renewable  \n",
       "195782         NaN          NaN  non-renewable  \n",
       "\n",
       "[55944 rows x 8 columns]"
      ]
     },
     "execution_count": 9,
     "metadata": {},
     "output_type": "execute_result"
    }
   ],
   "source": [
    "df_irena['type1'] = 'non-renewable'\n",
    "df_irena.loc[df_irena['technology'].isin(renewables), 'type1'] = 'renewable'\n",
    "df_irena[df_irena['type1'] == 'non-renewable']"
   ]
  },
  {
   "cell_type": "code",
   "execution_count": 31,
   "metadata": {},
   "outputs": [],
   "source": [
    "import plotly.express as px"
   ]
  },
  {
   "cell_type": "code",
   "execution_count": 34,
   "metadata": {},
   "outputs": [],
   "source": [
    "\n",
    "solars = [\n",
    "    'On-grid Solar photovoltaic',\n",
    "    'Off-grid Solar photovoltaic',\n",
    "    'Concentrated solar power',\n",
    "]\n",
    "\n",
    "winds = [\n",
    "    'Onshore wind energy',\n",
    "    'Offshore wind energy',\n",
    "]\n",
    "\n",
    "hydros = [\n",
    "    'Renewable hydropower',\n",
    "    'Mixed Hydro Plants',\n",
    "    'Pumped storage',\n",
    "]\n",
    "\n",
    "bios = [\n",
    "    'Solid biofuels',\n",
    "    'Liquid biofuels',\n",
    "    'Biogas',\n",
    "]\n",
    "\n",
    "others = [\n",
    "    'Renewable municipal waste',\n",
    "    'Geothermal energy',\n",
    "    'Marine energy',\n",
    "]\n",
    "\n",
    "df_irena['type2'] = 'Fossil Fuel'\n",
    "df_irena.loc[df_irena['technology'].isin(solars), 'type2'] = 'Solar'\n",
    "df_irena.loc[df_irena['technology'].isin(winds), 'type2'] = 'Wind'\n",
    "df_irena.loc[df_irena['technology'].isin(hydros), 'type2'] = 'Hydro'\n",
    "df_irena.loc[df_irena['technology'].isin(bios), 'type2'] = 'Bioenergy'\n",
    "df_irena.loc[df_irena['technology'].isin(others), 'type2'] = 'others'\n",
    "df_irena.loc[df_irena['technology'] == 'Nuclear', 'type2'] = 'Nuclear'\n"
   ]
  },
  {
   "cell_type": "code",
   "execution_count": 40,
   "metadata": {},
   "outputs": [],
   "source": [
    "def plot_generation_sunburst(year, country):\n",
    "    df = df_irena.loc[(df_irena['year'] ==\n",
    "                      year) & (df_irena['country'] == country)]\n",
    "    fig = px.sunburst(\n",
    "        df,\n",
    "        path=['type1', 'type2', 'technology'],\n",
    "        values='generation',\n",
    "        title=f'Generation by Technology of {country} in {year}',\n",
    "        color='technology',\n",
    "    )\n",
    "    fig.update_traces(texttemplate = ('%{label}<br>%{percentParent:.1%}')) \n",
    "    fig.update_traces(hovertemplate=('%{label}<br>%{value:,.0f}GWh'))\n",
    "\n",
    "    fig.show()\n",
    "\n",
    "    return\n"
   ]
  },
  {
   "cell_type": "code",
   "execution_count": 41,
   "metadata": {},
   "outputs": [
    {
     "data": {
      "application/vnd.plotly.v1+json": {
       "config": {
        "plotlyServerURL": "https://plot.ly"
       },
       "data": [
        {
         "branchvalues": "total",
         "customdata": [
          [
           "Off-grid Solar photovoltaic"
          ],
          [
           "Onshore wind energy"
          ],
          [
           "Concentrated solar power"
          ],
          [
           "Other non-renewable energy"
          ],
          [
           "On-grid Solar photovoltaic"
          ],
          [
           "Renewable municipal waste"
          ],
          [
           "Offshore wind energy"
          ],
          [
           "Nuclear"
          ],
          [
           "Oil"
          ],
          [
           "(?)"
          ],
          [
           "Liquid biofuels"
          ],
          [
           "Pumped storage"
          ],
          [
           "Renewable hydropower"
          ],
          [
           "Coal and peat"
          ],
          [
           "(?)"
          ],
          [
           "Nuclear"
          ],
          [
           "Fossil fuels n.e.s."
          ],
          [
           "Other non-renewable energy"
          ],
          [
           "(?)"
          ],
          [
           "Biogas"
          ],
          [
           "(?)"
          ],
          [
           "Fossil fuels"
          ],
          [
           "Solid biofuels"
          ],
          [
           "Marine energy"
          ],
          [
           "(?)"
          ],
          [
           "Geothermal energy"
          ],
          [
           "(?)"
          ],
          [
           "Natural gas"
          ],
          [
           "(?)"
          ],
          [
           "Mixed Hydro Plants"
          ],
          [
           "(?)"
          ]
         ],
         "domain": {
          "x": [
           0,
           1
          ],
          "y": [
           0,
           1
          ]
         },
         "hovertemplate": "%{label}<br>%{value:,.0f}GWh",
         "ids": [
          "renewable/Solar/Off-grid Solar photovoltaic",
          "renewable/Wind/Onshore wind energy",
          "renewable/Solar/Concentrated solar power",
          "renewable/Fossil Fuel",
          "renewable/Solar/On-grid Solar photovoltaic",
          "renewable/others/Renewable municipal waste",
          "renewable/Wind/Offshore wind energy",
          "non-renewable/Nuclear/Nuclear",
          "non-renewable/Fossil Fuel/Oil",
          "renewable/Wind",
          "renewable/Bioenergy/Liquid biofuels",
          "renewable/Hydro/Pumped storage",
          "renewable/Hydro/Renewable hydropower",
          "non-renewable/Fossil Fuel/Coal and peat",
          "non-renewable/Fossil Fuel",
          "non-renewable/Nuclear",
          "non-renewable/Fossil Fuel/Fossil fuels n.e.s.",
          "renewable/Fossil Fuel/Other non-renewable energy",
          "renewable/Bioenergy",
          "renewable/Bioenergy/Biogas",
          "renewable/Hydro",
          "non-renewable/Fossil Fuel/Fossil fuels",
          "renewable/Bioenergy/Solid biofuels",
          "renewable/others/Marine energy",
          "renewable/others",
          "renewable/others/Geothermal energy",
          "renewable/Solar",
          "non-renewable/Fossil Fuel/Natural gas",
          "renewable",
          "renewable/Hydro/Mixed Hydro Plants",
          "non-renewable"
         ],
         "labels": [
          "Off-grid Solar photovoltaic",
          "Onshore wind energy",
          "Concentrated solar power",
          "Fossil Fuel",
          "On-grid Solar photovoltaic",
          "Renewable municipal waste",
          "Offshore wind energy",
          "Nuclear",
          "Oil",
          "Wind",
          "Liquid biofuels",
          "Pumped storage",
          "Renewable hydropower",
          "Coal and peat",
          "Fossil Fuel",
          "Nuclear",
          "Fossil fuels n.e.s.",
          "Other non-renewable energy",
          "Bioenergy",
          "Biogas",
          "Hydro",
          "Fossil fuels",
          "Solid biofuels",
          "Marine energy",
          "others",
          "Geothermal energy",
          "Solar",
          "Natural gas",
          "renewable",
          "Mixed Hydro Plants",
          "non-renewable"
         ],
         "marker": {
          "colors": [
           "#636efa",
           "#EF553B",
           "#00cc96",
           "#ab63fa",
           "#FFA15A",
           "#19d3f3",
           "#FF6692",
           "#B6E880",
           "#FF97FF",
           "#FECB52",
           "#636efa",
           "#EF553B",
           "#00cc96",
           "#ab63fa",
           "#FECB52",
           "#B6E880",
           "#FFA15A",
           "#ab63fa",
           "#FECB52",
           "#19d3f3",
           "#FECB52",
           "#FF6692",
           "#B6E880",
           "#FF97FF",
           "#FECB52",
           "#FECB52",
           "#FECB52",
           "#636efa",
           "#FECB52",
           "#EF553B",
           "#FECB52"
          ]
         },
         "name": "",
         "parents": [
          "renewable/Solar",
          "renewable/Wind",
          "renewable/Solar",
          "renewable",
          "renewable/Solar",
          "renewable/others",
          "renewable/Wind",
          "non-renewable/Nuclear",
          "non-renewable/Fossil Fuel",
          "renewable",
          "renewable/Bioenergy",
          "renewable/Hydro",
          "renewable/Hydro",
          "non-renewable/Fossil Fuel",
          "non-renewable",
          "non-renewable",
          "non-renewable/Fossil Fuel",
          "renewable/Fossil Fuel",
          "renewable",
          "renewable/Bioenergy",
          "renewable",
          "non-renewable/Fossil Fuel",
          "renewable/Bioenergy",
          "renewable/others",
          "renewable",
          "renewable/others",
          "renewable",
          "non-renewable/Fossil Fuel",
          "",
          "renewable/Hydro",
          ""
         ],
         "texttemplate": "%{label}<br>%{percentParent:.1%}",
         "type": "sunburst",
         "values": [
          0,
          2587.757,
          0,
          3250,
          12996,
          163,
          92.243,
          145910,
          0,
          2680,
          2295,
          3458,
          2791,
          0,
          401470,
          145910,
          0,
          3250,
          8301,
          591,
          6249,
          401470,
          5415,
          474,
          637,
          0,
          12996,
          0,
          34113,
          0,
          547380
         ]
        }
       ],
       "layout": {
        "autosize": true,
        "legend": {
         "tracegroupgap": 0
        },
        "template": {
         "data": {
          "bar": [
           {
            "error_x": {
             "color": "#2a3f5f"
            },
            "error_y": {
             "color": "#2a3f5f"
            },
            "marker": {
             "line": {
              "color": "#E5ECF6",
              "width": 0.5
             },
             "pattern": {
              "fillmode": "overlay",
              "size": 10,
              "solidity": 0.2
             }
            },
            "type": "bar"
           }
          ],
          "barpolar": [
           {
            "marker": {
             "line": {
              "color": "#E5ECF6",
              "width": 0.5
             },
             "pattern": {
              "fillmode": "overlay",
              "size": 10,
              "solidity": 0.2
             }
            },
            "type": "barpolar"
           }
          ],
          "carpet": [
           {
            "aaxis": {
             "endlinecolor": "#2a3f5f",
             "gridcolor": "white",
             "linecolor": "white",
             "minorgridcolor": "white",
             "startlinecolor": "#2a3f5f"
            },
            "baxis": {
             "endlinecolor": "#2a3f5f",
             "gridcolor": "white",
             "linecolor": "white",
             "minorgridcolor": "white",
             "startlinecolor": "#2a3f5f"
            },
            "type": "carpet"
           }
          ],
          "choropleth": [
           {
            "colorbar": {
             "outlinewidth": 0,
             "ticks": ""
            },
            "type": "choropleth"
           }
          ],
          "contour": [
           {
            "colorbar": {
             "outlinewidth": 0,
             "ticks": ""
            },
            "colorscale": [
             [
              0,
              "#0d0887"
             ],
             [
              0.1111111111111111,
              "#46039f"
             ],
             [
              0.2222222222222222,
              "#7201a8"
             ],
             [
              0.3333333333333333,
              "#9c179e"
             ],
             [
              0.4444444444444444,
              "#bd3786"
             ],
             [
              0.5555555555555556,
              "#d8576b"
             ],
             [
              0.6666666666666666,
              "#ed7953"
             ],
             [
              0.7777777777777778,
              "#fb9f3a"
             ],
             [
              0.8888888888888888,
              "#fdca26"
             ],
             [
              1,
              "#f0f921"
             ]
            ],
            "type": "contour"
           }
          ],
          "contourcarpet": [
           {
            "colorbar": {
             "outlinewidth": 0,
             "ticks": ""
            },
            "type": "contourcarpet"
           }
          ],
          "heatmap": [
           {
            "colorbar": {
             "outlinewidth": 0,
             "ticks": ""
            },
            "colorscale": [
             [
              0,
              "#0d0887"
             ],
             [
              0.1111111111111111,
              "#46039f"
             ],
             [
              0.2222222222222222,
              "#7201a8"
             ],
             [
              0.3333333333333333,
              "#9c179e"
             ],
             [
              0.4444444444444444,
              "#bd3786"
             ],
             [
              0.5555555555555556,
              "#d8576b"
             ],
             [
              0.6666666666666666,
              "#ed7953"
             ],
             [
              0.7777777777777778,
              "#fb9f3a"
             ],
             [
              0.8888888888888888,
              "#fdca26"
             ],
             [
              1,
              "#f0f921"
             ]
            ],
            "type": "heatmap"
           }
          ],
          "heatmapgl": [
           {
            "colorbar": {
             "outlinewidth": 0,
             "ticks": ""
            },
            "colorscale": [
             [
              0,
              "#0d0887"
             ],
             [
              0.1111111111111111,
              "#46039f"
             ],
             [
              0.2222222222222222,
              "#7201a8"
             ],
             [
              0.3333333333333333,
              "#9c179e"
             ],
             [
              0.4444444444444444,
              "#bd3786"
             ],
             [
              0.5555555555555556,
              "#d8576b"
             ],
             [
              0.6666666666666666,
              "#ed7953"
             ],
             [
              0.7777777777777778,
              "#fb9f3a"
             ],
             [
              0.8888888888888888,
              "#fdca26"
             ],
             [
              1,
              "#f0f921"
             ]
            ],
            "type": "heatmapgl"
           }
          ],
          "histogram": [
           {
            "marker": {
             "pattern": {
              "fillmode": "overlay",
              "size": 10,
              "solidity": 0.2
             }
            },
            "type": "histogram"
           }
          ],
          "histogram2d": [
           {
            "colorbar": {
             "outlinewidth": 0,
             "ticks": ""
            },
            "colorscale": [
             [
              0,
              "#0d0887"
             ],
             [
              0.1111111111111111,
              "#46039f"
             ],
             [
              0.2222222222222222,
              "#7201a8"
             ],
             [
              0.3333333333333333,
              "#9c179e"
             ],
             [
              0.4444444444444444,
              "#bd3786"
             ],
             [
              0.5555555555555556,
              "#d8576b"
             ],
             [
              0.6666666666666666,
              "#ed7953"
             ],
             [
              0.7777777777777778,
              "#fb9f3a"
             ],
             [
              0.8888888888888888,
              "#fdca26"
             ],
             [
              1,
              "#f0f921"
             ]
            ],
            "type": "histogram2d"
           }
          ],
          "histogram2dcontour": [
           {
            "colorbar": {
             "outlinewidth": 0,
             "ticks": ""
            },
            "colorscale": [
             [
              0,
              "#0d0887"
             ],
             [
              0.1111111111111111,
              "#46039f"
             ],
             [
              0.2222222222222222,
              "#7201a8"
             ],
             [
              0.3333333333333333,
              "#9c179e"
             ],
             [
              0.4444444444444444,
              "#bd3786"
             ],
             [
              0.5555555555555556,
              "#d8576b"
             ],
             [
              0.6666666666666666,
              "#ed7953"
             ],
             [
              0.7777777777777778,
              "#fb9f3a"
             ],
             [
              0.8888888888888888,
              "#fdca26"
             ],
             [
              1,
              "#f0f921"
             ]
            ],
            "type": "histogram2dcontour"
           }
          ],
          "mesh3d": [
           {
            "colorbar": {
             "outlinewidth": 0,
             "ticks": ""
            },
            "type": "mesh3d"
           }
          ],
          "parcoords": [
           {
            "line": {
             "colorbar": {
              "outlinewidth": 0,
              "ticks": ""
             }
            },
            "type": "parcoords"
           }
          ],
          "pie": [
           {
            "automargin": true,
            "type": "pie"
           }
          ],
          "scatter": [
           {
            "marker": {
             "colorbar": {
              "outlinewidth": 0,
              "ticks": ""
             }
            },
            "type": "scatter"
           }
          ],
          "scatter3d": [
           {
            "line": {
             "colorbar": {
              "outlinewidth": 0,
              "ticks": ""
             }
            },
            "marker": {
             "colorbar": {
              "outlinewidth": 0,
              "ticks": ""
             }
            },
            "type": "scatter3d"
           }
          ],
          "scattercarpet": [
           {
            "marker": {
             "colorbar": {
              "outlinewidth": 0,
              "ticks": ""
             }
            },
            "type": "scattercarpet"
           }
          ],
          "scattergeo": [
           {
            "marker": {
             "colorbar": {
              "outlinewidth": 0,
              "ticks": ""
             }
            },
            "type": "scattergeo"
           }
          ],
          "scattergl": [
           {
            "marker": {
             "colorbar": {
              "outlinewidth": 0,
              "ticks": ""
             }
            },
            "type": "scattergl"
           }
          ],
          "scattermapbox": [
           {
            "marker": {
             "colorbar": {
              "outlinewidth": 0,
              "ticks": ""
             }
            },
            "type": "scattermapbox"
           }
          ],
          "scatterpolar": [
           {
            "marker": {
             "colorbar": {
              "outlinewidth": 0,
              "ticks": ""
             }
            },
            "type": "scatterpolar"
           }
          ],
          "scatterpolargl": [
           {
            "marker": {
             "colorbar": {
              "outlinewidth": 0,
              "ticks": ""
             }
            },
            "type": "scatterpolargl"
           }
          ],
          "scatterternary": [
           {
            "marker": {
             "colorbar": {
              "outlinewidth": 0,
              "ticks": ""
             }
            },
            "type": "scatterternary"
           }
          ],
          "surface": [
           {
            "colorbar": {
             "outlinewidth": 0,
             "ticks": ""
            },
            "colorscale": [
             [
              0,
              "#0d0887"
             ],
             [
              0.1111111111111111,
              "#46039f"
             ],
             [
              0.2222222222222222,
              "#7201a8"
             ],
             [
              0.3333333333333333,
              "#9c179e"
             ],
             [
              0.4444444444444444,
              "#bd3786"
             ],
             [
              0.5555555555555556,
              "#d8576b"
             ],
             [
              0.6666666666666666,
              "#ed7953"
             ],
             [
              0.7777777777777778,
              "#fb9f3a"
             ],
             [
              0.8888888888888888,
              "#fdca26"
             ],
             [
              1,
              "#f0f921"
             ]
            ],
            "type": "surface"
           }
          ],
          "table": [
           {
            "cells": {
             "fill": {
              "color": "#EBF0F8"
             },
             "line": {
              "color": "white"
             }
            },
            "header": {
             "fill": {
              "color": "#C8D4E3"
             },
             "line": {
              "color": "white"
             }
            },
            "type": "table"
           }
          ]
         },
         "layout": {
          "annotationdefaults": {
           "arrowcolor": "#2a3f5f",
           "arrowhead": 0,
           "arrowwidth": 1
          },
          "autotypenumbers": "strict",
          "coloraxis": {
           "colorbar": {
            "outlinewidth": 0,
            "ticks": ""
           }
          },
          "colorscale": {
           "diverging": [
            [
             0,
             "#8e0152"
            ],
            [
             0.1,
             "#c51b7d"
            ],
            [
             0.2,
             "#de77ae"
            ],
            [
             0.3,
             "#f1b6da"
            ],
            [
             0.4,
             "#fde0ef"
            ],
            [
             0.5,
             "#f7f7f7"
            ],
            [
             0.6,
             "#e6f5d0"
            ],
            [
             0.7,
             "#b8e186"
            ],
            [
             0.8,
             "#7fbc41"
            ],
            [
             0.9,
             "#4d9221"
            ],
            [
             1,
             "#276419"
            ]
           ],
           "sequential": [
            [
             0,
             "#0d0887"
            ],
            [
             0.1111111111111111,
             "#46039f"
            ],
            [
             0.2222222222222222,
             "#7201a8"
            ],
            [
             0.3333333333333333,
             "#9c179e"
            ],
            [
             0.4444444444444444,
             "#bd3786"
            ],
            [
             0.5555555555555556,
             "#d8576b"
            ],
            [
             0.6666666666666666,
             "#ed7953"
            ],
            [
             0.7777777777777778,
             "#fb9f3a"
            ],
            [
             0.8888888888888888,
             "#fdca26"
            ],
            [
             1,
             "#f0f921"
            ]
           ],
           "sequentialminus": [
            [
             0,
             "#0d0887"
            ],
            [
             0.1111111111111111,
             "#46039f"
            ],
            [
             0.2222222222222222,
             "#7201a8"
            ],
            [
             0.3333333333333333,
             "#9c179e"
            ],
            [
             0.4444444444444444,
             "#bd3786"
            ],
            [
             0.5555555555555556,
             "#d8576b"
            ],
            [
             0.6666666666666666,
             "#ed7953"
            ],
            [
             0.7777777777777778,
             "#fb9f3a"
            ],
            [
             0.8888888888888888,
             "#fdca26"
            ],
            [
             1,
             "#f0f921"
            ]
           ]
          },
          "colorway": [
           "#636efa",
           "#EF553B",
           "#00cc96",
           "#ab63fa",
           "#FFA15A",
           "#19d3f3",
           "#FF6692",
           "#B6E880",
           "#FF97FF",
           "#FECB52"
          ],
          "font": {
           "color": "#2a3f5f"
          },
          "geo": {
           "bgcolor": "white",
           "lakecolor": "white",
           "landcolor": "#E5ECF6",
           "showlakes": true,
           "showland": true,
           "subunitcolor": "white"
          },
          "hoverlabel": {
           "align": "left"
          },
          "hovermode": "closest",
          "mapbox": {
           "style": "light"
          },
          "paper_bgcolor": "white",
          "plot_bgcolor": "#E5ECF6",
          "polar": {
           "angularaxis": {
            "gridcolor": "white",
            "linecolor": "white",
            "ticks": ""
           },
           "bgcolor": "#E5ECF6",
           "radialaxis": {
            "gridcolor": "white",
            "linecolor": "white",
            "ticks": ""
           }
          },
          "scene": {
           "xaxis": {
            "backgroundcolor": "#E5ECF6",
            "gridcolor": "white",
            "gridwidth": 2,
            "linecolor": "white",
            "showbackground": true,
            "ticks": "",
            "zerolinecolor": "white"
           },
           "yaxis": {
            "backgroundcolor": "#E5ECF6",
            "gridcolor": "white",
            "gridwidth": 2,
            "linecolor": "white",
            "showbackground": true,
            "ticks": "",
            "zerolinecolor": "white"
           },
           "zaxis": {
            "backgroundcolor": "#E5ECF6",
            "gridcolor": "white",
            "gridwidth": 2,
            "linecolor": "white",
            "showbackground": true,
            "ticks": "",
            "zerolinecolor": "white"
           }
          },
          "shapedefaults": {
           "line": {
            "color": "#2a3f5f"
           }
          },
          "ternary": {
           "aaxis": {
            "gridcolor": "white",
            "linecolor": "white",
            "ticks": ""
           },
           "baxis": {
            "gridcolor": "white",
            "linecolor": "white",
            "ticks": ""
           },
           "bgcolor": "#E5ECF6",
           "caxis": {
            "gridcolor": "white",
            "linecolor": "white",
            "ticks": ""
           }
          },
          "title": {
           "x": 0.05
          },
          "xaxis": {
           "automargin": true,
           "gridcolor": "white",
           "linecolor": "white",
           "ticks": "",
           "title": {
            "standoff": 15
           },
           "zerolinecolor": "white",
           "zerolinewidth": 2
          },
          "yaxis": {
           "automargin": true,
           "gridcolor": "white",
           "linecolor": "white",
           "ticks": "",
           "title": {
            "standoff": 15
           },
           "zerolinecolor": "white",
           "zerolinewidth": 2
          }
         }
        },
        "title": {
         "text": "Generation by Technology of S. Korea in 2019"
        }
       }
      },
      "image/png": "[encoded data removed]",
      "text/html": [
       "<div>                            <div id=\"42854bfe-5d90-45eb-bdc5-5f4eed3299e8\" class=\"plotly-graph-div\" style=\"height:525px; width:100%;\"></div>            <script type=\"text/javascript\">                require([\"plotly\"], function(Plotly) {                    window.PLOTLYENV=window.PLOTLYENV || {};                                    if (document.getElementById(\"42854bfe-5d90-45eb-bdc5-5f4eed3299e8\")) {                    Plotly.newPlot(                        \"42854bfe-5d90-45eb-bdc5-5f4eed3299e8\",                        [{\"branchvalues\":\"total\",\"customdata\":[[\"Off-grid Solar photovoltaic\"],[\"Onshore wind energy\"],[\"Concentrated solar power\"],[\"Other non-renewable energy\"],[\"On-grid Solar photovoltaic\"],[\"Renewable municipal waste\"],[\"Offshore wind energy\"],[\"Nuclear\"],[\"Oil\"],[\"(?)\"],[\"Liquid biofuels\"],[\"Pumped storage\"],[\"Renewable hydropower\"],[\"Coal and peat\"],[\"(?)\"],[\"Nuclear\"],[\"Fossil fuels n.e.s.\"],[\"Other non-renewable energy\"],[\"(?)\"],[\"Biogas\"],[\"(?)\"],[\"Fossil fuels\"],[\"Solid biofuels\"],[\"Marine energy\"],[\"(?)\"],[\"Geothermal energy\"],[\"(?)\"],[\"Natural gas\"],[\"(?)\"],[\"Mixed Hydro Plants\"],[\"(?)\"]],\"domain\":{\"x\":[0.0,1.0],\"y\":[0.0,1.0]},\"hovertemplate\":\"%{label}<br>%{value:,.0f}GWh\",\"ids\":[\"renewable/Solar/Off-grid Solar photovoltaic\",\"renewable/Wind/Onshore wind energy\",\"renewable/Solar/Concentrated solar power\",\"renewable/Fossil Fuel\",\"renewable/Solar/On-grid Solar photovoltaic\",\"renewable/others/Renewable municipal waste\",\"renewable/Wind/Offshore wind energy\",\"non-renewable/Nuclear/Nuclear\",\"non-renewable/Fossil Fuel/Oil\",\"renewable/Wind\",\"renewable/Bioenergy/Liquid biofuels\",\"renewable/Hydro/Pumped storage\",\"renewable/Hydro/Renewable hydropower\",\"non-renewable/Fossil Fuel/Coal and peat\",\"non-renewable/Fossil Fuel\",\"non-renewable/Nuclear\",\"non-renewable/Fossil Fuel/Fossil fuels n.e.s.\",\"renewable/Fossil Fuel/Other non-renewable energy\",\"renewable/Bioenergy\",\"renewable/Bioenergy/Biogas\",\"renewable/Hydro\",\"non-renewable/Fossil Fuel/Fossil fuels\",\"renewable/Bioenergy/Solid biofuels\",\"renewable/others/Marine energy\",\"renewable/others\",\"renewable/others/Geothermal energy\",\"renewable/Solar\",\"non-renewable/Fossil Fuel/Natural gas\",\"renewable\",\"renewable/Hydro/Mixed Hydro Plants\",\"non-renewable\"],\"labels\":[\"Off-grid Solar photovoltaic\",\"Onshore wind energy\",\"Concentrated solar power\",\"Fossil Fuel\",\"On-grid Solar photovoltaic\",\"Renewable municipal waste\",\"Offshore wind energy\",\"Nuclear\",\"Oil\",\"Wind\",\"Liquid biofuels\",\"Pumped storage\",\"Renewable hydropower\",\"Coal and peat\",\"Fossil Fuel\",\"Nuclear\",\"Fossil fuels n.e.s.\",\"Other non-renewable energy\",\"Bioenergy\",\"Biogas\",\"Hydro\",\"Fossil fuels\",\"Solid biofuels\",\"Marine energy\",\"others\",\"Geothermal energy\",\"Solar\",\"Natural gas\",\"renewable\",\"Mixed Hydro Plants\",\"non-renewable\"],\"marker\":{\"colors\":[\"#636efa\",\"#EF553B\",\"#00cc96\",\"#ab63fa\",\"#FFA15A\",\"#19d3f3\",\"#FF6692\",\"#B6E880\",\"#FF97FF\",\"#FECB52\",\"#636efa\",\"#EF553B\",\"#00cc96\",\"#ab63fa\",\"#FECB52\",\"#B6E880\",\"#FFA15A\",\"#ab63fa\",\"#FECB52\",\"#19d3f3\",\"#FECB52\",\"#FF6692\",\"#B6E880\",\"#FF97FF\",\"#FECB52\",\"#FECB52\",\"#FECB52\",\"#636efa\",\"#FECB52\",\"#EF553B\",\"#FECB52\"]},\"name\":\"\",\"parents\":[\"renewable/Solar\",\"renewable/Wind\",\"renewable/Solar\",\"renewable\",\"renewable/Solar\",\"renewable/others\",\"renewable/Wind\",\"non-renewable/Nuclear\",\"non-renewable/Fossil Fuel\",\"renewable\",\"renewable/Bioenergy\",\"renewable/Hydro\",\"renewable/Hydro\",\"non-renewable/Fossil Fuel\",\"non-renewable\",\"non-renewable\",\"non-renewable/Fossil Fuel\",\"renewable/Fossil Fuel\",\"renewable\",\"renewable/Bioenergy\",\"renewable\",\"non-renewable/Fossil Fuel\",\"renewable/Bioenergy\",\"renewable/others\",\"renewable\",\"renewable/others\",\"renewable\",\"non-renewable/Fossil Fuel\",\"\",\"renewable/Hydro\",\"\"],\"texttemplate\":\"%{label}<br>%{percentParent:.1%}\",\"type\":\"sunburst\",\"values\":[0.0,2587.757,0.0,3250.0,12996.0,163.0,92.243,145910.0,0.0,2680.0,2295.0,3458.0,2791.0,0.0,401470.0,145910.0,0.0,3250.0,8301.0,591.0,6249.0,401470.0,5415.0,474.0,637.0,0.0,12996.0,0.0,34113.0,0.0,547380.0]}],                        {\"legend\":{\"tracegroupgap\":0},\"template\":{\"data\":{\"bar\":[{\"error_x\":{\"color\":\"#2a3f5f\"},\"error_y\":{\"color\":\"#2a3f5f\"},\"marker\":{\"line\":{\"color\":\"#E5ECF6\",\"width\":0.5},\"pattern\":{\"fillmode\":\"overlay\",\"size\":10,\"solidity\":0.2}},\"type\":\"bar\"}],\"barpolar\":[{\"marker\":{\"line\":{\"color\":\"#E5ECF6\",\"width\":0.5},\"pattern\":{\"fillmode\":\"overlay\",\"size\":10,\"solidity\":0.2}},\"type\":\"barpolar\"}],\"carpet\":[{\"aaxis\":{\"endlinecolor\":\"#2a3f5f\",\"gridcolor\":\"white\",\"linecolor\":\"white\",\"minorgridcolor\":\"white\",\"startlinecolor\":\"#2a3f5f\"},\"baxis\":{\"endlinecolor\":\"#2a3f5f\",\"gridcolor\":\"white\",\"linecolor\":\"white\",\"minorgridcolor\":\"white\",\"startlinecolor\":\"#2a3f5f\"},\"type\":\"carpet\"}],\"choropleth\":[{\"colorbar\":{\"outlinewidth\":0,\"ticks\":\"\"},\"type\":\"choropleth\"}],\"contour\":[{\"colorbar\":{\"outlinewidth\":0,\"ticks\":\"\"},\"colorscale\":[[0.0,\"#0d0887\"],[0.1111111111111111,\"#46039f\"],[0.2222222222222222,\"#7201a8\"],[0.3333333333333333,\"#9c179e\"],[0.4444444444444444,\"#bd3786\"],[0.5555555555555556,\"#d8576b\"],[0.6666666666666666,\"#ed7953\"],[0.7777777777777778,\"#fb9f3a\"],[0.8888888888888888,\"#fdca26\"],[1.0,\"#f0f921\"]],\"type\":\"contour\"}],\"contourcarpet\":[{\"colorbar\":{\"outlinewidth\":0,\"ticks\":\"\"},\"type\":\"contourcarpet\"}],\"heatmap\":[{\"colorbar\":{\"outlinewidth\":0,\"ticks\":\"\"},\"colorscale\":[[0.0,\"#0d0887\"],[0.1111111111111111,\"#46039f\"],[0.2222222222222222,\"#7201a8\"],[0.3333333333333333,\"#9c179e\"],[0.4444444444444444,\"#bd3786\"],[0.5555555555555556,\"#d8576b\"],[0.6666666666666666,\"#ed7953\"],[0.7777777777777778,\"#fb9f3a\"],[0.8888888888888888,\"#fdca26\"],[1.0,\"#f0f921\"]],\"type\":\"heatmap\"}],\"heatmapgl\":[{\"colorbar\":{\"outlinewidth\":0,\"ticks\":\"\"},\"colorscale\":[[0.0,\"#0d0887\"],[0.1111111111111111,\"#46039f\"],[0.2222222222222222,\"#7201a8\"],[0.3333333333333333,\"#9c179e\"],[0.4444444444444444,\"#bd3786\"],[0.5555555555555556,\"#d8576b\"],[0.6666666666666666,\"#ed7953\"],[0.7777777777777778,\"#fb9f3a\"],[0.8888888888888888,\"#fdca26\"],[1.0,\"#f0f921\"]],\"type\":\"heatmapgl\"}],\"histogram\":[{\"marker\":{\"pattern\":{\"fillmode\":\"overlay\",\"size\":10,\"solidity\":0.2}},\"type\":\"histogram\"}],\"histogram2d\":[{\"colorbar\":{\"outlinewidth\":0,\"ticks\":\"\"},\"colorscale\":[[0.0,\"#0d0887\"],[0.1111111111111111,\"#46039f\"],[0.2222222222222222,\"#7201a8\"],[0.3333333333333333,\"#9c179e\"],[0.4444444444444444,\"#bd3786\"],[0.5555555555555556,\"#d8576b\"],[0.6666666666666666,\"#ed7953\"],[0.7777777777777778,\"#fb9f3a\"],[0.8888888888888888,\"#fdca26\"],[1.0,\"#f0f921\"]],\"type\":\"histogram2d\"}],\"histogram2dcontour\":[{\"colorbar\":{\"outlinewidth\":0,\"ticks\":\"\"},\"colorscale\":[[0.0,\"#0d0887\"],[0.1111111111111111,\"#46039f\"],[0.2222222222222222,\"#7201a8\"],[0.3333333333333333,\"#9c179e\"],[0.4444444444444444,\"#bd3786\"],[0.5555555555555556,\"#d8576b\"],[0.6666666666666666,\"#ed7953\"],[0.7777777777777778,\"#fb9f3a\"],[0.8888888888888888,\"#fdca26\"],[1.0,\"#f0f921\"]],\"type\":\"histogram2dcontour\"}],\"mesh3d\":[{\"colorbar\":{\"outlinewidth\":0,\"ticks\":\"\"},\"type\":\"mesh3d\"}],\"parcoords\":[{\"line\":{\"colorbar\":{\"outlinewidth\":0,\"ticks\":\"\"}},\"type\":\"parcoords\"}],\"pie\":[{\"automargin\":true,\"type\":\"pie\"}],\"scatter\":[{\"marker\":{\"colorbar\":{\"outlinewidth\":0,\"ticks\":\"\"}},\"type\":\"scatter\"}],\"scatter3d\":[{\"line\":{\"colorbar\":{\"outlinewidth\":0,\"ticks\":\"\"}},\"marker\":{\"colorbar\":{\"outlinewidth\":0,\"ticks\":\"\"}},\"type\":\"scatter3d\"}],\"scattercarpet\":[{\"marker\":{\"colorbar\":{\"outlinewidth\":0,\"ticks\":\"\"}},\"type\":\"scattercarpet\"}],\"scattergeo\":[{\"marker\":{\"colorbar\":{\"outlinewidth\":0,\"ticks\":\"\"}},\"type\":\"scattergeo\"}],\"scattergl\":[{\"marker\":{\"colorbar\":{\"outlinewidth\":0,\"ticks\":\"\"}},\"type\":\"scattergl\"}],\"scattermapbox\":[{\"marker\":{\"colorbar\":{\"outlinewidth\":0,\"ticks\":\"\"}},\"type\":\"scattermapbox\"}],\"scatterpolar\":[{\"marker\":{\"colorbar\":{\"outlinewidth\":0,\"ticks\":\"\"}},\"type\":\"scatterpolar\"}],\"scatterpolargl\":[{\"marker\":{\"colorbar\":{\"outlinewidth\":0,\"ticks\":\"\"}},\"type\":\"scatterpolargl\"}],\"scatterternary\":[{\"marker\":{\"colorbar\":{\"outlinewidth\":0,\"ticks\":\"\"}},\"type\":\"scatterternary\"}],\"surface\":[{\"colorbar\":{\"outlinewidth\":0,\"ticks\":\"\"},\"colorscale\":[[0.0,\"#0d0887\"],[0.1111111111111111,\"#46039f\"],[0.2222222222222222,\"#7201a8\"],[0.3333333333333333,\"#9c179e\"],[0.4444444444444444,\"#bd3786\"],[0.5555555555555556,\"#d8576b\"],[0.6666666666666666,\"#ed7953\"],[0.7777777777777778,\"#fb9f3a\"],[0.8888888888888888,\"#fdca26\"],[1.0,\"#f0f921\"]],\"type\":\"surface\"}],\"table\":[{\"cells\":{\"fill\":{\"color\":\"#EBF0F8\"},\"line\":{\"color\":\"white\"}},\"header\":{\"fill\":{\"color\":\"#C8D4E3\"},\"line\":{\"color\":\"white\"}},\"type\":\"table\"}]},\"layout\":{\"annotationdefaults\":{\"arrowcolor\":\"#2a3f5f\",\"arrowhead\":0,\"arrowwidth\":1},\"autotypenumbers\":\"strict\",\"coloraxis\":{\"colorbar\":{\"outlinewidth\":0,\"ticks\":\"\"}},\"colorscale\":{\"diverging\":[[0,\"#8e0152\"],[0.1,\"#c51b7d\"],[0.2,\"#de77ae\"],[0.3,\"#f1b6da\"],[0.4,\"#fde0ef\"],[0.5,\"#f7f7f7\"],[0.6,\"#e6f5d0\"],[0.7,\"#b8e186\"],[0.8,\"#7fbc41\"],[0.9,\"#4d9221\"],[1,\"#276419\"]],\"sequential\":[[0.0,\"#0d0887\"],[0.1111111111111111,\"#46039f\"],[0.2222222222222222,\"#7201a8\"],[0.3333333333333333,\"#9c179e\"],[0.4444444444444444,\"#bd3786\"],[0.5555555555555556,\"#d8576b\"],[0.6666666666666666,\"#ed7953\"],[0.7777777777777778,\"#fb9f3a\"],[0.8888888888888888,\"#fdca26\"],[1.0,\"#f0f921\"]],\"sequentialminus\":[[0.0,\"#0d0887\"],[0.1111111111111111,\"#46039f\"],[0.2222222222222222,\"#7201a8\"],[0.3333333333333333,\"#9c179e\"],[0.4444444444444444,\"#bd3786\"],[0.5555555555555556,\"#d8576b\"],[0.6666666666666666,\"#ed7953\"],[0.7777777777777778,\"#fb9f3a\"],[0.8888888888888888,\"#fdca26\"],[1.0,\"#f0f921\"]]},\"colorway\":[\"#636efa\",\"#EF553B\",\"#00cc96\",\"#ab63fa\",\"#FFA15A\",\"#19d3f3\",\"#FF6692\",\"#B6E880\",\"#FF97FF\",\"#FECB52\"],\"font\":{\"color\":\"#2a3f5f\"},\"geo\":{\"bgcolor\":\"white\",\"lakecolor\":\"white\",\"landcolor\":\"#E5ECF6\",\"showlakes\":true,\"showland\":true,\"subunitcolor\":\"white\"},\"hoverlabel\":{\"align\":\"left\"},\"hovermode\":\"closest\",\"mapbox\":{\"style\":\"light\"},\"paper_bgcolor\":\"white\",\"plot_bgcolor\":\"#E5ECF6\",\"polar\":{\"angularaxis\":{\"gridcolor\":\"white\",\"linecolor\":\"white\",\"ticks\":\"\"},\"bgcolor\":\"#E5ECF6\",\"radialaxis\":{\"gridcolor\":\"white\",\"linecolor\":\"white\",\"ticks\":\"\"}},\"scene\":{\"xaxis\":{\"backgroundcolor\":\"#E5ECF6\",\"gridcolor\":\"white\",\"gridwidth\":2,\"linecolor\":\"white\",\"showbackground\":true,\"ticks\":\"\",\"zerolinecolor\":\"white\"},\"yaxis\":{\"backgroundcolor\":\"#E5ECF6\",\"gridcolor\":\"white\",\"gridwidth\":2,\"linecolor\":\"white\",\"showbackground\":true,\"ticks\":\"\",\"zerolinecolor\":\"white\"},\"zaxis\":{\"backgroundcolor\":\"#E5ECF6\",\"gridcolor\":\"white\",\"gridwidth\":2,\"linecolor\":\"white\",\"showbackground\":true,\"ticks\":\"\",\"zerolinecolor\":\"white\"}},\"shapedefaults\":{\"line\":{\"color\":\"#2a3f5f\"}},\"ternary\":{\"aaxis\":{\"gridcolor\":\"white\",\"linecolor\":\"white\",\"ticks\":\"\"},\"baxis\":{\"gridcolor\":\"white\",\"linecolor\":\"white\",\"ticks\":\"\"},\"bgcolor\":\"#E5ECF6\",\"caxis\":{\"gridcolor\":\"white\",\"linecolor\":\"white\",\"ticks\":\"\"}},\"title\":{\"x\":0.05},\"xaxis\":{\"automargin\":true,\"gridcolor\":\"white\",\"linecolor\":\"white\",\"ticks\":\"\",\"title\":{\"standoff\":15},\"zerolinecolor\":\"white\",\"zerolinewidth\":2},\"yaxis\":{\"automargin\":true,\"gridcolor\":\"white\",\"linecolor\":\"white\",\"ticks\":\"\",\"title\":{\"standoff\":15},\"zerolinecolor\":\"white\",\"zerolinewidth\":2}}},\"title\":{\"text\":\"Generation by Technology of S. Korea in 2019\"}},                        {\"responsive\": true}                    ).then(function(){\n",
       "                            \n",
       "var gd = document.getElementById('42854bfe-5d90-45eb-bdc5-5f4eed3299e8');\n",
       "var x = new MutationObserver(function (mutations, observer) {{\n",
       "        var display = window.getComputedStyle(gd).display;\n",
       "        if (!display || display === 'none') {{\n",
       "            console.log([gd, 'removed!']);\n",
       "            Plotly.purge(gd);\n",
       "            observer.disconnect();\n",
       "        }}\n",
       "}});\n",
       "\n",
       "// Listen for the removal of the full notebook cells\n",
       "var notebookContainer = gd.closest('#notebook-container');\n",
       "if (notebookContainer) {{\n",
       "    x.observe(notebookContainer, {childList: true});\n",
       "}}\n",
       "\n",
       "// Listen for the clearing of the current output cell\n",
       "var outputEl = gd.closest('.output');\n",
       "if (outputEl) {{\n",
       "    x.observe(outputEl, {childList: true});\n",
       "}}\n",
       "\n",
       "                        })                };                });            </script>        </div>"
      ]
     },
     "metadata": {},
     "output_type": "display_data"
    }
   ],
   "source": [
    "plot_generation_sunburst(2019, 'S. Korea')"
   ]
  },
  {
   "cell_type": "code",
   "execution_count": 11,
   "metadata": {},
   "outputs": [
    {
     "name": "stdout",
     "output_type": "stream",
     "text": [
      "size: 195804 x 7\n",
      "\n",
      "head(5):\n",
      "       country                  technology      grid  year  capacity  \\\n",
      "0  Afghanistan  On-grid Solar photovoltaic  Off-grid  2000       0.0   \n",
      "1  Afghanistan  On-grid Solar photovoltaic  Off-grid  2001       0.0   \n",
      "2  Afghanistan  On-grid Solar photovoltaic  Off-grid  2002       0.0   \n",
      "3  Afghanistan  On-grid Solar photovoltaic  Off-grid  2003       0.0   \n",
      "4  Afghanistan  On-grid Solar photovoltaic  Off-grid  2004       0.0   \n",
      "\n",
      "   generation  utilization  \n",
      "0         0.0          NaN  \n",
      "1         0.0          NaN  \n",
      "2         0.0          NaN  \n",
      "3         0.0          NaN  \n",
      "4         0.0          NaN  \n",
      "...\n",
      "tail(5):\n",
      "         country                  technology     grid  year  capacity  \\\n",
      "195799  Zimbabwe  Other non-renewable energy  On-grid  2016       0.0   \n",
      "195800  Zimbabwe  Other non-renewable energy  On-grid  2017       0.0   \n",
      "195801  Zimbabwe  Other non-renewable energy  On-grid  2018       0.0   \n",
      "195802  Zimbabwe  Other non-renewable energy  On-grid  2019       0.0   \n",
      "195803  Zimbabwe  Other non-renewable energy  On-grid  2020       0.0   \n",
      "\n",
      "        generation  utilization  \n",
      "195799         0.0          NaN  \n",
      "195800         0.0          NaN  \n",
      "195801         0.0          NaN  \n",
      "195802         0.0          NaN  \n",
      "195803         NaN          NaN  \n",
      "columns:\n",
      "Index(['country', 'technology', 'grid', 'year', 'capacity', 'generation',\n",
      "       'utilization'],\n",
      "      dtype='object')\n",
      "country:\n",
      "# of unique values: 222\n",
      "values: ['Afghanistan' 'Albania' 'Algeria' 'American Samoa' 'Andorra' 'Angola'\n",
      " 'Anguilla' 'Antigua and Barbuda' 'Argentina' 'Armenia' 'Aruba'\n",
      " 'Australia' 'Austria' 'Azerbaijan' 'Bahamas' 'Bahrain' 'Bangladesh'\n",
      " 'Barbados' 'Belarus' 'Belgium' 'Belize' 'Benin' 'Bhutan'\n",
      " 'Bolivia (Plurinational State of)' 'Bonaire, Sint Eustatius and Saba'\n",
      " 'Bosnia and Herzegovina' 'Botswana' 'Brazil' 'British Virgin Islands'\n",
      " 'Brunei Darussalam' 'Bulgaria' 'Burkina Faso' 'Burundi' 'Cabo Verde'\n",
      " 'Cambodia' 'Cameroon' 'Canada' 'Cayman Islands'\n",
      " 'Central African Republic' 'Chad' 'Chile' 'China' 'Chinese Taipei'\n",
      " 'Colombia' 'Comoros' 'Congo' 'Cook Islands' 'Costa Rica' 'Ivory Coast'\n",
      " 'Croatia' 'Cuba' 'Curacao' 'Cyprus' 'Czech Republic' 'N. Korea'\n",
      " 'Democratic Republic of the Congo' 'Denmark' 'Djibouti' 'Dominica'\n",
      " 'Dominican Republic' 'Ecuador' 'Egypt' 'El Salvador' 'Equatorial Guinea'\n",
      " 'Eritrea' 'Estonia' 'Eswatini' 'Ethiopia' 'Falkland Islands (Malvinas)'\n",
      " 'Faroe Islands' 'Fiji' 'Finland' 'France' 'French Guiana'\n",
      " 'French Polynesia' 'Gabon' 'Gambia' 'Georgia' 'Germany' 'Ghana' 'Greece'\n",
      " 'Greenland' 'Grenada' 'Guadeloupe' 'Guam' 'Guatemala' 'Guinea'\n",
      " 'Guinea-Bissau' 'Guyana' 'Haiti' 'Honduras' 'Hungary' 'Iceland' 'India'\n",
      " 'Indonesia' 'Iran' 'Iraq' 'Ireland' 'Israel' 'Italy' 'Jamaica' 'Japan'\n",
      " 'Jordan' 'Kazakhstan' 'Kenya' 'Kiribati' 'Kosovo*' 'Kuwait' 'Kyrgyzstan'\n",
      " \"Lao People's Democratic Republic\" 'Latvia' 'Lebanon' 'Lesotho' 'Liberia'\n",
      " 'Libya' 'Lithuania' 'Luxembourg' 'Madagascar' 'Malawi' 'Malaysia'\n",
      " 'Maldives' 'Mali' 'Malta' 'Marshall Islands' 'Martinique' 'Mauritania'\n",
      " 'Mauritius' 'Mayotte' 'Mexico' 'Micronesia (Federated States of)'\n",
      " 'Mongolia' 'Montenegro' 'Montserrat' 'Morocco' 'Mozambique' 'Myanmar'\n",
      " 'Namibia' 'Nauru' 'Nepal' 'Netherlands' 'New Caledonia' 'New Zealand'\n",
      " 'Nicaragua' 'Niger' 'Nigeria' 'Niue' 'Norway' 'Oman' 'Pakistan' 'Palau'\n",
      " 'Panama' 'Papua New Guinea' 'Paraguay' 'Peru' 'Philippines' 'Poland'\n",
      " 'Portugal' 'Puerto Rico' 'Qatar' 'S. Korea' 'Republic of Moldova'\n",
      " 'Republic of North Macedonia' 'Reunion' 'Romania' 'Russia' 'Rwanda'\n",
      " 'Saint Barthelemy' 'Saint Kitts and Nevis' 'Saint Lucia'\n",
      " 'Saint Martin (French Part)' 'Saint Pierre and Miquelon'\n",
      " 'Saint Vincent and the Grenadines' 'Samoa' 'Sao Tome and Principe'\n",
      " 'Saudi Arabia' 'Senegal' 'Serbia' 'Seychelles' 'Sierra Leone' 'Singapore'\n",
      " 'Slovakia' 'Slovenia' 'Solomon Islands' 'Somalia' 'South Africa'\n",
      " 'South Georgia and the South Sandwich Islands' 'South Sudan' 'Spain'\n",
      " 'Sri Lanka' 'State of Palestine' 'Sudan' 'Suriname' 'Sweden'\n",
      " 'Switzerland' 'Syrian Arab Republic' 'Tajikistan' 'Thailand'\n",
      " 'Timor-Leste' 'Togo' 'Tokelau' 'Tonga' 'Trinidad and Tobago' 'Tunisia'\n",
      " 'Turkey' 'Turkmenistan' 'Turks and Caicos Islands' 'Tuvalu' 'Uganda'\n",
      " 'Ukraine' 'United Arab Emirates' 'UK' 'United Republic of Tanzania' 'USA'\n",
      " 'United States Virgin Islands' 'Uruguay' 'Uzbekistan' 'Vanuatu'\n",
      " 'Venezuela (Bolivarian Republic of)' 'Viet Nam' 'Yemen' 'Zambia'\n",
      " 'Zimbabwe']\n",
      "technology:\n",
      "# of unique values: 21\n",
      "values: ['On-grid Solar photovoltaic' 'Off-grid Solar photovoltaic'\n",
      " 'Concentrated solar power' 'Onshore wind energy' 'Offshore wind energy'\n",
      " 'Renewable hydropower' 'Mixed Hydro Plants' 'Pumped storage'\n",
      " 'Solid biofuels' 'Renewable municipal waste' 'Liquid biofuels' 'Biogas'\n",
      " 'Geothermal energy' 'Marine energy' 'Fossil fuels' 'Coal and peat' 'Oil'\n",
      " 'Natural gas' 'Nuclear' 'Fossil fuels n.e.s.'\n",
      " 'Other non-renewable energy']\n",
      "grid:\n",
      "# of unique values: 2\n",
      "values: ['Off-grid' 'On-grid']\n",
      "year:\n",
      "# of unique values: 21\n",
      "values: [2000 2001 2002 2003 2004 2005 2006 2007 2008 2009 2010 2011 2012 2013\n",
      " 2014 2015 2016 2017 2018 2019 2020]\n",
      "capacity:\n",
      "# of unique values: 9375\n",
      "values: [0.00000e+00 1.00000e-01 1.20000e-01 ... 1.07945e+03 6.15000e+01\n",
      " 8.15000e+01]\n",
      "generation:\n",
      "# of unique values: 15443\n",
      "values: [0.000000e+00          nan 4.000000e-03 ... 4.065900e+03 3.685800e+03\n",
      " 3.710498e+03]\n",
      "utilization:\n",
      "# of unique values: 17535\n",
      "values: [       nan 0.         1.8        ... 3.38825    3.0715     3.09208167]\n"
     ]
    }
   ],
   "source": [
    "df_info(df_irena, True)"
   ]
  },
  {
   "cell_type": "code",
   "execution_count": 12,
   "metadata": {},
   "outputs": [],
   "source": [
    "# capacity 데이터에 아래 이슈가 있다.\n",
    "# technology가 fossil_fuels에 해당하는 capacity는\n",
    "# technology가 coal, oil, gas, fossil fuel n.e.s.에 해당하는 capacity들의 합이다.\n",
    "# df에서 capacity를 sum하면 fossil fuels가 중복해서 합산된다.\n",
    "# 이를 피하기 위해 coal, oil, gas, fossil fuel n.e.s.에 해당하는 행을 삭제한다.\n",
    "# generation 데이터에는 이런 이슈가 없다.\n",
    "technologies_to_drop = ['Coal and peat', 'Oil',\n",
    "                        'Natural gas', 'Fossil fuels n.e.s.']\n",
    "index_to_drop = df_irena[df_irena['technology'].isin(\n",
    "    technologies_to_drop)].index\n",
    "df_irena.drop(index=index_to_drop, axis='index', inplace=True)\n",
    "\n"
   ]
  },
  {
   "cell_type": "code",
   "execution_count": 13,
   "metadata": {},
   "outputs": [
    {
     "name": "stdout",
     "output_type": "stream",
     "text": [
      "size: 37 x 4\n",
      "\n",
      "head(5):\n",
      "   country  accessionYear   pop2021  match found\n",
      "1      USA         1961.0  332915073         213\n",
      "2   Mexico         1994.0  130262216         129\n",
      "3    Japan         1964.0  126050804         102\n",
      "4   Turkey         1961.0   85042738         204\n",
      "5  Germany         1961.0   83900473          79\n",
      "...\n",
      "tail(5):\n",
      "       country  accessionYear      pop2021  match found\n",
      "33      Latvia         2016.0       1866942         111\n",
      "34     Estonia         2010.0       1325185          66\n",
      "35  Luxembourg         1961.0        634814         117\n",
      "36     Iceland         1961.0        343353          93\n",
      "37      Russia            NaN  146,022,030          165\n",
      "columns:\n",
      "Index(['country', 'accessionYear', ' pop2021 ', 'match found'], dtype='object')\n",
      "country:\n",
      "# of unique values: 37\n",
      "values: ['USA' 'Mexico' 'Japan' 'Turkey' 'Germany' 'UK' 'France' 'Italy'\n",
      " 'S. Korea' 'Spain' 'Canada' 'Poland' 'Australia' 'Chile' 'Netherlands'\n",
      " 'Belgium' 'Czech Republic' 'Greece' 'Portugal' 'Sweden' 'Hungary'\n",
      " 'Austria' 'Israel' 'Switzerland' 'Denmark' 'Finland' 'Norway' 'Slovakia'\n",
      " 'Ireland' 'New Zealand' 'Lithuania' 'Slovenia' 'Latvia' 'Estonia'\n",
      " 'Luxembourg' 'Iceland' 'Russia']\n",
      "accessionYear:\n",
      "# of unique values: 14\n",
      "values: [1961. 1994. 1964. 1962. 1996. 1971. 2010. 1995. 1969. 2000. 1973. 2018.\n",
      " 2016.   nan]\n",
      " pop2021 :\n",
      "# of unique values: 37\n",
      "values: [332915073 130262216 126050804 85042738 83900473 68207116 65426179\n",
      " 60367477 51305186 46745216 38067903 37797005 25788215 19212361 17173099\n",
      " 11632326 10724555 10370744 10167925 10160169 9634164 9043070 8789774\n",
      " 8715494 5813298 5548360 5465630 5460721 4982907 4860643 2689862 2078724\n",
      " 1866942 1325185 634814 343353 '146,022,030\\xa0']\n",
      "match found:\n",
      "# of unique values: 37\n",
      "values: [213 129 102 204 79 211 73 100 'not found' 188 37 156 12 41 140 20 54 81\n",
      " 157 193 92 13 99 194 57 72 147 181 98 142 116 182 111 66 117 93 165]\n"
     ]
    }
   ],
   "source": [
    "df_focus_countries = pd.read_excel(\n",
    "    k_focus_country_file_name, skiprows=2, index_col=0)\n",
    "df_focus_countries.set_index('country')\n",
    "df_info(df_focus_countries, True)"
   ]
  },
  {
   "cell_type": "code",
   "execution_count": 14,
   "metadata": {},
   "outputs": [
    {
     "name": "stdout",
     "output_type": "stream",
     "text": [
      "ok: df_irena includes all oecd countries.\n"
     ]
    }
   ],
   "source": [
    "# df_oecd의 coutnry들이 df_irena에 모두 있는지 확인한다.\n",
    "irena_countries = set(df_irena['country'].to_list())\n",
    "oecd_countries = set(df_focus_countries['country'].to_list())\n",
    "if irena_countries.issuperset(oecd_countries):\n",
    "    print(f'ok: df_irena includes all oecd countries.')\n",
    "else:\n",
    "    print(f'nok:')\n",
    "    print(f'the following oecd countries are not included in df_irena:')\n",
    "    pprint.pprint(oecd_countries - irena_countries)\n",
    "    print('program finished.')\n",
    "    sys.exit()"
   ]
  },
  {
   "cell_type": "code",
   "execution_count": 17,
   "metadata": {},
   "outputs": [],
   "source": [
    "def world_capacity(year):\n",
    "    # year년 상위 국가들의 생산 용량 [MW]\n",
    "    df_sorted = df.sort_values(by='capacity', ascending=False)\n",
    "    korea_rank = list(df_sorted.index).index('S. Korea')\n",
    "    korea_total = df_sorted.iloc[korea_rank]['capacity']\n",
    "\n",
    "    color_list = ['lightsteelblue' for country in df_sorted.index]\n",
    "    color_list[korea_rank] = 'deepskyblue'\n",
    "\n",
    "    rank_ul = get_rank_ul(rank=korea_rank, df=df_sorted)\n",
    "\n",
    "    # rank_ul = max(korea_rank, k_rank_ul_min)\n",
    "    # print(df_sorted[:rank_ul])\n",
    "    df_sorted[:rank_ul].plot(y='capacity', kind='bar', color=color_list)\n",
    "    plt.grid(axis='y')\n",
    "    plt.title(f'World Capacity in {year}')\n",
    "    plt.ylabel('Capacity [MW]')\n",
    "    # plt.gca().get_legend().remove()\n",
    "\n",
    "    annotate_y_coord = min(max(\n",
    "        korea_total * 1.2, plt.gca().get_ylim()[1] * 0.1), df_sorted['capacity'].max())\n",
    "    plt.gca().annotate(f'Korea: {korea_total:,.0f}MW\\nrank : {korea_rank + 1}',\n",
    "                        xy=(korea_rank, annotate_y_coord), fontsize=10, color='green',\n",
    "                        bbox=dict(boxstyle='round,pad=0.2', fc='yellow', alpha=0.3))\n",
    "\n",
    "    png_file_name = f'world_{year}_cap.png'\n",
    "    save_or_show_fig(save=k_figsave, file_name=png_file_name)\n",
    "\n",
    "\n",
    "    df_korea = df_irena[df_irena['year'] == year].groupby(\n",
    "        ['country']).get_group('S. Korea')\n",
    "\n",
    "    cap_world_total = df_irena[df_irena['year'] == year]['capacity'].sum()\n",
    "    cap_korea_total = df_korea['capacity'].sum()\n",
    "    cap_korea_pct = cap_korea_total / cap_world_total * 100\n",
    "\n",
    "    print(f'Korea ranking               : {korea_rank + 1:>16}')\n",
    "    print(f'capacity world total [MW]   : {cap_world_total:>16,.0f}')\n",
    "    print(f'capacity Korea total [MW]   : {cap_korea_total:>16,.0f}')\n",
    "    print(f'capacity Korea percent [%]  : {cap_korea_pct:>16,.1f}')    \n",
    "    \n"
   ]
  },
  {
   "cell_type": "code",
   "execution_count": 18,
   "metadata": {},
   "outputs": [],
   "source": [
    "def world_generation(year):\n",
    "    # year년 상위 국가들의 생산량 [GWh]\n",
    "    df_sorted = df.sort_values(by='generation', ascending=False)\n",
    "    korea_rank = list(df_sorted.index).index('S. Korea')\n",
    "    korea_total = df_sorted.iloc[korea_rank]['generation']\n",
    "\n",
    "    color_list = ['lightsteelblue' for country in df_sorted.index]\n",
    "    color_list[korea_rank] = 'deepskyblue'\n",
    "\n",
    "    rank_ul = get_rank_ul(rank=korea_rank, df=df_sorted)\n",
    "\n",
    "    df_sorted[:rank_ul].plot(y='generation', kind='bar', color=color_list)\n",
    "    plt.grid(axis='y')\n",
    "    plt.title(f'World Generation in {year}')\n",
    "    plt.ylabel('generation [GWh]')\n",
    "\n",
    "    annotate_y_coord = min(max(\n",
    "        korea_total * 1.2, plt.gca().get_ylim()[1] * 0.1), df_sorted['generation'].max())\n",
    "    plt.gca().annotate(f'Korea {korea_total:,.0f}GWh\\nrank : {korea_rank + 1}', xy=(korea_rank, annotate_y_coord), fontsize=10, color='green',\n",
    "                        bbox=dict(boxstyle='round,pad=0.2', fc='yellow', alpha=0.3))\n",
    "\n",
    "    png_file_name = f'world_{year}_gen.png'\n",
    "    save_or_show_fig(save=k_figsave, file_name=png_file_name)\n",
    "\n",
    "    df_korea = df_irena[df_irena['year'] == year].groupby(\n",
    "        ['country']).get_group('S. Korea')\n",
    "    gen_world_total = df_irena[df_irena['year'] == year]['generation'].sum()\n",
    "    gen_korea_total = df_korea['generation'].sum()\n",
    "    gen_korea_pct = gen_korea_total / gen_world_total * 100\n",
    "    print(f'Korea ranking               : {korea_rank + 1:>16}')\n",
    "    print(f'generation world total [GWh]: {gen_world_total:>16,.0f}')\n",
    "    print(f'generation korea total [GWh]: {gen_korea_total:>16,.0f}')\n",
    "    print(f'generation korea percent [%]: {gen_korea_pct:>16,.1f}')\n",
    "\n"
   ]
  },
  {
   "cell_type": "code",
   "execution_count": 19,
   "metadata": {},
   "outputs": [],
   "source": [
    "def world_capacity_generation(year):\n",
    "    # year년 상위 국가들의 생산 용량[MW]과 생산량 [GWh]\n",
    "    df_sorted = df.sort_values(by='capacity', ascending=False)\n",
    "    korea_rank = list(df_sorted.index).index('S. Korea')\n",
    "    korea_cap_total = df_sorted.iloc[korea_rank]['capacity']\n",
    "    korea_gen_total = df_sorted.iloc[korea_rank]['generation']\n",
    "\n",
    "    rank_ul = get_rank_ul(rank=korea_rank, df=df_sorted)\n",
    "\n",
    "    df_sorted[:rank_ul].plot(y=['capacity', 'generation'], kind='bar')\n",
    "    plt.grid(axis='y')\n",
    "    plt.title(f'World Capacity and Generation in {year}')\n",
    "    plt.ylabel('capacity [MW] & generation [GWh]')\n",
    "\n",
    "    annotate_y_coord = min(max(\n",
    "        korea_gen_total * 1.2, plt.gca().get_ylim()[1] * 0.1), df_sorted['capacity'].max())\n",
    "\n",
    "    plt.gca().annotate(f'Korea\\ncapacity    {korea_cap_total:,.0f}MW\\ngeneration {korea_gen_total:,.0f}GWh',\n",
    "                        xy=(korea_rank, annotate_y_coord), fontsize=10, color='green',\n",
    "                        bbox=dict(boxstyle='round,pad=0.2', fc='yellow', alpha=0.3))\n",
    "\n",
    "    png_file_name = f'world_{year}_cap_gen.png'\n",
    "    save_or_show_fig(save=k_figsave, file_name=png_file_name)\n",
    "\n",
    "    df_korea = df_irena[df_irena['year'] == year].groupby(\n",
    "        ['country']).get_group('S. Korea')\n",
    "\n",
    "    cap_world_total = df_irena[df_irena['year'] == year]['capacity'].sum()\n",
    "    cap_korea_total = df_korea['capacity'].sum()\n",
    "    cap_korea_pct = cap_korea_total / cap_world_total * 100\n",
    "\n",
    "    print(f'Korea ranking               : {korea_rank + 1:>16}')\n",
    "    print(f'capacity world total [MW]   : {cap_world_total:>16,.0f}')\n",
    "    print(f'capacity Korea total [MW]   : {cap_korea_total:>16,.0f}')\n",
    "    print(f'capacity Korea percent [%]  : {cap_korea_pct:>16,.1f}')    \n",
    "\n",
    "    gen_world_total = df_irena[df_irena['year'] == year]['generation'].sum()\n",
    "    gen_korea_total = df_korea['generation'].sum()\n",
    "    gen_korea_pct = gen_korea_total / gen_world_total * 100\n",
    "    print(f'Korea ranking               : {korea_rank + 1:>16}')\n",
    "    print(f'generation world total [GWh]: {gen_world_total:>16,.0f}')\n",
    "    print(f'generation korea total [GWh]: {gen_korea_total:>16,.0f}')\n",
    "    print(f'generation korea percent [%]: {gen_korea_pct:>16,.1f}')\n"
   ]
  },
  {
   "cell_type": "code",
   "execution_count": 20,
   "metadata": {},
   "outputs": [],
   "source": [
    "def world_utilization(year):\n",
    "    # year년 상위 국가의 가동률(= generation / capacity) [GWh / MW = kh]\n",
    "    df_sorted = df.sort_values(by='utilization', ascending=False)\n",
    "    # print(df_utilization_sorted.head(30))\n",
    "    korea_rank = list(df_sorted.index).index('S. Korea')\n",
    "    util_korea = df_sorted.iloc[korea_rank]['utilization']\n",
    "\n",
    "    color_list = ['lightsteelblue' for country in df_sorted.index]\n",
    "    color_list[korea_rank] = 'deepskyblue'\n",
    "\n",
    "    rank_ul = get_rank_ul(rank=korea_rank, df=df_sorted)\n",
    "\n",
    "    df_sorted[:rank_ul].plot(y='utilization', kind='bar', color=color_list)\n",
    "    plt.gca().axhline(365 * 24 / 1000, ls='--', color='r')\n",
    "    plt.grid(axis='y')\n",
    "    plt.title(f'Utilization in {year}')\n",
    "    plt.ylabel('utilization [kh] = generation [GWh] / capacity [MW]')\n",
    "\n",
    "    annotate_y_coord = min(max(\n",
    "        util_korea * 1.2, plt.gca().get_ylim()[1] * 0.1), df_sorted['utilization'].max())\n",
    "    plt.gca().annotate(f'Korea {util_korea:,.3f}kh',\n",
    "                        xy=(korea_rank, annotate_y_coord), fontsize=10, color='green',\n",
    "                        bbox=dict(boxstyle='round, pad=0.2', fc='yellow', alpha=0.3))\n",
    "    plt.gca().annotate(f'utilization limit [= 365 days x 24 h / day] {365 * 24 / 1000:,.3f}kh',\n",
    "                        xy=(rank_ul // 2, 365 * 24 / 1000 * 0.95), fontsize=10, color='white',\n",
    "                        bbox=dict(boxstyle='round, pad=0.2', fc='red'))\n",
    "\n",
    "\n",
    "    # print(f'There are {365 * 24:,} hours in a year.')\n",
    "\n",
    "    png_file_name = f'world_{year}_util.png'\n",
    "    save_or_show_fig(save=k_figsave, file_name=png_file_name)\n",
    "\n",
    "    util_world_mean = df_irena[df_irena['year'] == year]['utilization'].mean()\n",
    "\n",
    "    print(f'Korea ranking               : {korea_rank + 1:>16}')\n",
    "    print(f'utilization world mean [GWh]: {util_world_mean:>16,.0f}')\n",
    "    print(f'utilization korea      [GWh]: {util_korea:>16,.0f}')\n"
   ]
  },
  {
   "cell_type": "code",
   "execution_count": 21,
   "metadata": {},
   "outputs": [],
   "source": [
    "def world_renewable_capacity(year):\n",
    "    # year년 상위 국가의 renewable energy 생산 용량 [MW]\n",
    "    filt = (df_irena['technology'].isin(renewables)) & (df_irena['year'] == year)\n",
    "\n",
    "    df = df_irena.loc[filt, ['country', 'technology', 'capacity', 'generation']].groupby('country').sum()\n",
    "\n",
    "    # print(df)\n",
    "    df.reset_index(inplace=True)\n",
    "    df.set_index('country', inplace=True)\n",
    "\n",
    "    df_sorted = df.sort_values(by=['capacity', 'generation'], ascending=False)\n",
    "    korea_rank = list(df_sorted.index).index('S. Korea')\n",
    "    korea_total = df_sorted.iloc[korea_rank]['capacity']\n",
    "\n",
    "    color_list = ['lightsteelblue' for country in df_sorted.index]\n",
    "    color_list[korea_rank] = 'deepskyblue'\n",
    "\n",
    "    rank_ul = get_rank_ul(korea_rank, df_sorted)\n",
    "\n",
    "    df_sorted[:rank_ul].plot(\n",
    "        y='capacity', kind='bar', color=color_list)\n",
    "    plt.grid(axis='y')\n",
    "    plt.title(f'World Capacity of Renewables in {year}')\n",
    "    plt.ylabel('capacity [MW]')\n",
    "\n",
    "    annotate_y_coord = min(max(\n",
    "        korea_total * 1.2, plt.gca().get_ylim()[1] * 0.1), df_sorted['capacity'].max())\n",
    "    plt.gca().annotate(f'Korea {korea_total:,.0f}MW',\n",
    "                        xy=(korea_rank, annotate_y_coord), fontsize=10, color='green',\n",
    "                        bbox=dict(boxstyle='round,pad=0.2', fc='yellow', alpha=0.3))\n",
    "\n",
    "    png_file_name = f'world_{year}_renewables_cap.png'\n",
    "    save_or_show_fig(save=k_figsave, file_name=png_file_name)\n",
    "\n",
    "    cap_world_total = df['capacity'].sum()\n",
    "    cap_korea_total = korea_total\n",
    "    cap_korea_pct = cap_korea_total / cap_world_total * 100\n",
    "    print(f'Korea ranking               : {korea_rank + 1:>16}')\n",
    "    print(f'capacity world total [MW]   : {cap_world_total:>16,.0f}')\n",
    "    print(f'capacity Korea total [MW]   : {cap_korea_total:>16,.0f}')\n",
    "    print(f'capacity Korea percent [%]  : {cap_korea_pct:>16,.1f}')    \n",
    "    print()\n",
    "\n",
    "\n",
    "    df = df_irena[df_irena['year'] == year].groupby(\n",
    "        ['country', 'technology']).sum()\n",
    "    df.reset_index(inplace=True)\n",
    "    df.set_index('country', inplace=True)\n",
    "    for energy in renewables:\n",
    "        df_sorted = df[df['technology'] == energy].sort_values(\n",
    "            by=['capacity', 'generation'], ascending=False)\n",
    "        korea_rank = list(df_sorted.index).index('S. Korea')\n",
    "        korea_total = df_sorted.iloc[korea_rank]['capacity']\n",
    "\n",
    "        color_list = ['lightsteelblue' for country in df_sorted.index]\n",
    "        color_list[korea_rank] = 'deepskyblue'\n",
    "\n",
    "        rank_ul = get_rank_ul(korea_rank, df_sorted)\n",
    "\n",
    "        df_sorted[:rank_ul].plot(\n",
    "            y='capacity', kind='bar', color=color_list)\n",
    "        plt.grid(axis='y')\n",
    "        plt.title(f'Capacity of {energy} in {year}')\n",
    "        plt.ylabel('capacity [MW]')\n",
    "\n",
    "        annotate_y_coord = min(max(\n",
    "            korea_total * 1.2, plt.gca().get_ylim()[1] * 0.1), df_sorted['capacity'].max())\n",
    "        plt.gca().annotate(f'Korea {korea_total:,.0f}MW',\n",
    "                            xy=(korea_rank, annotate_y_coord), fontsize=10, color='green',\n",
    "                            bbox=dict(boxstyle='round,pad=0.2', fc='yellow', alpha=0.3))\n",
    "\n",
    "        png_file_name = f'world_{year}_{energy}_cap.png'\n",
    "        save_or_show_fig(save=k_figsave, file_name=png_file_name)\n",
    "\n",
    "        cap_world_total = df_sorted['capacity'].sum()\n",
    "        cap_korea_total = korea_total\n",
    "        cap_korea_pct = cap_korea_total / cap_world_total * 100\n",
    "\n",
    "\n",
    "        print(f'technology                  : {energy}')\n",
    "        print(f'Korea ranking               : {korea_rank + 1:>16}')\n",
    "        print(f'capacity world total [MW]   : {cap_world_total:>16,.0f}')\n",
    "        print(f'capacity Korea total [MW]   : {cap_korea_total:>16,.0f}')\n",
    "        print(f'capacity Korea percent [%]  : {cap_korea_pct:>16,.1f}')    \n",
    "\n",
    "        print()"
   ]
  },
  {
   "cell_type": "code",
   "execution_count": 22,
   "metadata": {},
   "outputs": [],
   "source": [
    "def world_renewable_generation(year):\n",
    "\n",
    "    # year년 상위 국가들의 renewable energy 생산량 [GWh]\n",
    "    # 위에서 만든 df를 이용한다.\n",
    "    # df = df_irena[df_irena['year'] == year].groupby(['country', 'technology']).sum()\n",
    "    # df.reset_index(inplace=True)\n",
    "    # df.set_index('country', inplace=True)\n",
    "\n",
    "    # year년 상위 국가의 renewable energy 생산 용량 [MW]\n",
    "    filt = (df_irena['technology'].isin(renewables)) & (df_irena['year'] == year)\n",
    "\n",
    "    df = df_irena.loc[filt, ['country', 'technology', 'capacity', 'generation']].groupby('country').sum()\n",
    "\n",
    "    # print(df)\n",
    "    df.reset_index(inplace=True)\n",
    "    df.set_index('country', inplace=True)\n",
    "\n",
    "    df_sorted = df.sort_values(by=['generation', 'capacity'], ascending=False)\n",
    "    korea_rank = list(df_sorted.index).index('S. Korea')\n",
    "    korea_total = df_sorted.iloc[korea_rank]['generation']\n",
    "\n",
    "    color_list = ['lightsteelblue' for country in df_sorted.index]\n",
    "    color_list[korea_rank] = 'deepskyblue'\n",
    "\n",
    "    rank_ul = get_rank_ul(korea_rank, df_sorted)\n",
    "\n",
    "    df_sorted[:rank_ul].plot(\n",
    "        y='generation', kind='bar', color=color_list)\n",
    "    plt.grid(axis='y')\n",
    "    plt.title(f'World Generation of Renewables in {year}')\n",
    "    plt.ylabel('Generation [GWh]')\n",
    "\n",
    "    annotate_y_coord = min(max(\n",
    "        korea_total * 1.2, plt.gca().get_ylim()[1] * 0.1), df_sorted['generation'].max())\n",
    "    plt.gca().annotate(f'Korea {korea_total:,.0f}GWh',\n",
    "                        xy=(korea_rank, annotate_y_coord), fontsize=10, color='green',\n",
    "                        bbox=dict(boxstyle='round,pad=0.2', fc='yellow', alpha=0.3))\n",
    "\n",
    "    png_file_name = f'world_{year}_renewables_gen.png'\n",
    "    save_or_show_fig(save=k_figsave, file_name=png_file_name)\n",
    "\n",
    "    gen_world_total = df_sorted['generation'].sum()\n",
    "    gen_korea_total = korea_total\n",
    "    gen_korea_pct = gen_korea_total / gen_world_total * 100\n",
    "    print(f'Korea ranking               : {korea_rank + 1:>16}')\n",
    "    print(f'generation world total [MW] : {gen_world_total:>16,.0f}')\n",
    "    print(f'generation Korea total [MW] : {gen_korea_total:>16,.0f}')\n",
    "    print(f'generation Korea percent [%]: {gen_korea_pct:>16,.1f}')    \n",
    "    print()\n",
    "\n",
    "\n",
    "\n",
    "    df = df_irena[df_irena['year'] == year].groupby(\n",
    "        ['country', 'technology']).sum()\n",
    "    df.reset_index(inplace=True)\n",
    "    df.set_index('country', inplace=True)\n",
    "    for energy in renewables:\n",
    "        df_sorted = df[df['technology'] == energy].sort_values(\n",
    "            by=['generation', 'capacity'], ascending=False)\n",
    "        korea_rank = list(df_sorted.index).index('S. Korea')\n",
    "        korea_total = df_sorted.iloc[korea_rank]['generation']\n",
    "\n",
    "        color_list = ['lightsteelblue' for country in df_sorted.index]\n",
    "        color_list[korea_rank] = 'deepskyblue'\n",
    "\n",
    "        rank_ul = get_rank_ul(rank=korea_rank, df=df_sorted)\n",
    "\n",
    "        df_sorted[:rank_ul].plot(\n",
    "            y='generation', kind='bar', color=color_list)\n",
    "        plt.grid(axis='y')\n",
    "        plt.title(f'Generation of {energy} in {year}')\n",
    "        plt.ylabel('generation [GWh]')\n",
    "\n",
    "        annotate_y_coord = min(max(\n",
    "            korea_total * 1.2, plt.gca().get_ylim()[1] * 0.1), df_sorted['generation'].max())\n",
    "        plt.gca().annotate(f'Korea {korea_total:,.0f}GWh',\n",
    "                            xy=(korea_rank, annotate_y_coord), fontsize=10, color='green',\n",
    "                            bbox=dict(boxstyle='round,pad=0.2', fc='yellow', alpha=0.3))\n",
    "\n",
    "        png_file_name = f'world_{year}_{energy}_gen.png'\n",
    "        save_or_show_fig(save=k_figsave, file_name=png_file_name)\n",
    "\n",
    "        gen_world_total = df_sorted['generation'].sum()\n",
    "        gen_korea_total = korea_total\n",
    "        gen_korea_pct = gen_korea_total / gen_world_total * 100\n",
    "\n",
    "\n",
    "        print(f'technology                  : {energy}')\n",
    "        print(f'Korea ranking               : {korea_rank + 1:>16}')\n",
    "        print(f'generation world total [MW] : {gen_world_total:>16,.0f}')\n",
    "        print(f'generation Korea total [MW] : {gen_korea_total:>16,.0f}')\n",
    "        print(f'generation Korea percent [%]: {gen_korea_pct:>16,.1f}')    \n",
    "\n",
    "        print()"
   ]
  },
  {
   "cell_type": "code",
   "execution_count": 23,
   "metadata": {},
   "outputs": [],
   "source": [
    "def world_renewable_capacity_generation(year):\n",
    "    # year년 상위 국가들의 renewable energy 생산 용량, 생산량\n",
    "\n",
    "    filt = (df_irena['technology'].isin(renewables)) & (df_irena['year'] == year)\n",
    "\n",
    "    df = df_irena.loc[filt, ['country', 'technology', 'capacity', 'generation']].groupby('country').sum()\n",
    "\n",
    "    # print(df)\n",
    "    df.reset_index(inplace=True)\n",
    "    df.set_index('country', inplace=True)\n",
    "\n",
    "    df_sorted = df.sort_values(by=['capacity', 'generation'], ascending=False)\n",
    "    korea_rank = list(df_sorted.index).index('S. Korea')\n",
    "    cap_korea_total = df_sorted.iloc[korea_rank]['capacity']\n",
    "    gen_korea_total = df_sorted.iloc[korea_rank]['generation']\n",
    "\n",
    "    # color_list = ['lightsteelblue' for country in df_sorted.index]\n",
    "    # color_list[korea_rank] = 'deepskyblue'\n",
    "\n",
    "    rank_ul = get_rank_ul(korea_rank, df_sorted)\n",
    "\n",
    "    df_sorted[:rank_ul].plot(\n",
    "        y=['capacity', 'generation'], kind='bar')\n",
    "    plt.grid(axis='y')\n",
    "    plt.title(f'World Capacity and Generatin of Renewables in {year}')\n",
    "    plt.ylabel('capacity [MW] & generation [GWh]')\n",
    "\n",
    "    annotate_y_coord = min(max(\n",
    "        gen_korea_total * 1.2, plt.gca().get_ylim()[1] * 0.1), df_sorted['generation'].max())\n",
    "    plt.gca().annotate(f'Korea:\\ncapacity: {cap_korea_total:,.0f}MW\\ngeneration: {gen_korea_total:,.0f}GWh',\n",
    "                        xy=(korea_rank, annotate_y_coord), fontsize=10, color='green',\n",
    "                        bbox=dict(boxstyle='round,pad=0.2', fc='yellow', alpha=0.3))\n",
    "\n",
    "    png_file_name = f'world_{year}_renewables_cap_gen.png'\n",
    "    save_or_show_fig(save=k_figsave, file_name=png_file_name)\n",
    "\n",
    "    cap_world_total = df['capacity'].sum()\n",
    "    cap_korea_pct = cap_korea_total / cap_world_total * 100\n",
    "    print(f'Korea ranking               : {korea_rank + 1:>16}')\n",
    "    print(f'capacity world total [MW]   : {cap_world_total:>16,.0f}')\n",
    "    print(f'capacity Korea total [MW]   : {cap_korea_total:>16,.0f}')\n",
    "    print(f'capacity Korea percent [%]  : {cap_korea_pct:>16,.1f}')    \n",
    "    print()\n",
    "\n",
    "    gen_world_total = df['generation'].sum()\n",
    "    gen_korea_pct = gen_korea_total / gen_world_total * 100\n",
    "    print(f'Korea ranking               : {korea_rank + 1:>16}')\n",
    "    print(f'generation world total [MW] : {gen_world_total:>16,.0f}')\n",
    "    print(f'generation Korea total [MW] : {gen_korea_total:>16,.0f}')\n",
    "    print(f'generation Korea percent [%]: {gen_korea_pct:>16,.1f}')    \n",
    "\n",
    "\n",
    "    df = df_irena[df_irena['year'] == year].groupby(\n",
    "        ['country', 'technology']).sum()\n",
    "    df.reset_index(inplace=True)\n",
    "    df.set_index('country', inplace=True)\n",
    "    for energy in renewables:\n",
    "        df_sorted = df[df['technology'] == energy].sort_values(\n",
    "            by=['capacity', 'generation'], ascending=False)\n",
    "        korea_rank = list(df_sorted.index).index('S. Korea')\n",
    "        korea_cap_total = df_sorted.iloc[korea_rank]['capacity']\n",
    "        korea_gen_total = df_sorted.iloc[korea_rank]['generation']\n",
    "\n",
    "        rank_ul = get_rank_ul(rank=korea_rank, df=df_sorted)\n",
    "\n",
    "        df_sorted[:rank_ul].plot(\n",
    "            y=['capacity', 'generation'], kind='bar', stacked=False)\n",
    "        plt.grid(axis='y')\n",
    "        plt.title(f'World Capacity and Generation of {energy} in {year}')\n",
    "        plt.ylabel('capacity [MW] & generation[GWh]')\n",
    "\n",
    "        annotate_y_coord = min(max(\n",
    "            korea_gen_total * 1.2, plt.gca().get_ylim()[1] * 0.1), df_sorted['generation'].max())\n",
    "        plt.gca().annotate(f'Korea\\ncapacity    {korea_cap_total:,.0f}MW\\ngeneration {korea_gen_total:,.0f}GWh',\n",
    "                            xy=(korea_rank, annotate_y_coord), fontsize=10, color='green',\n",
    "                            bbox=dict(boxstyle='round,pad=0.2', fc='yellow', alpha=0.3))\n",
    "\n",
    "        png_file_name = f'world_{year}_{energy}_cap_gen.png'\n",
    "        save_or_show_fig(save=k_figsave, file_name=png_file_name)\n",
    "\n",
    "        cap_world_total = df_sorted['capacity'].sum()\n",
    "        cap_korea_total = korea_cap_total\n",
    "        cap_korea_pct = cap_korea_total / cap_world_total * 100 if cap_world_total != 0 else 0\n",
    "        print(f'Technology                  : {energy}')\n",
    "        print(f'Korea ranking               : {korea_rank + 1:>16}')\n",
    "        print(f'capacity world total [MW]   : {cap_world_total:>16,.0f}')\n",
    "        print(f'capacity Korea total [MW]   : {cap_korea_total:>16,.0f}')\n",
    "        print(f'capacity Korea percent [%]  : {cap_korea_pct:>16,.1f}')    \n",
    "\n",
    "        gen_world_total = df_sorted['generation'].sum()\n",
    "        gen_korea_total = korea_gen_total\n",
    "        gen_korea_pct = gen_korea_total / gen_world_total * 100 if gen_world_total != 0 else 0\n",
    "        print(f'Korea ranking               : {korea_rank + 1:>16}')\n",
    "        print(f'generation world total [MW] : {gen_world_total:>16,.0f}')\n",
    "        print(f'generation Korea total [MW] : {gen_korea_total:>16,.0f}')\n",
    "        print(f'generation Korea percent [%]: {gen_korea_pct:>16,.1f}')    \n",
    "        print()\n",
    "\n"
   ]
  },
  {
   "cell_type": "code",
   "execution_count": 24,
   "metadata": {},
   "outputs": [],
   "source": [
    "def world_renewable_capacity_generation_utilization(year):\n",
    "    # year년 상위 국가들의 renewable energy 생산 용량, 생산량, 가동률\n",
    "\n",
    "    filt = (df_irena['technology'].isin(renewables)) & (df_irena['year'] == year)\n",
    "\n",
    "    df = df_irena.loc[filt, ['country', 'technology', 'capacity', 'generation']].groupby('country').sum()\n",
    "    df['utilization'] = df['generation'] / df['capacity']\n",
    "\n",
    "    # print(df)\n",
    "    # print(df.loc['S. Korea'])\n",
    "\n",
    "    df.reset_index(inplace=True)\n",
    "    df.set_index('country', inplace=True)\n",
    "\n",
    "    df_sorted = df.sort_values(by=['capacity', 'generation'], ascending=False)\n",
    "    korea_rank = list(df_sorted.index).index('S. Korea')\n",
    "    cap_korea_total = df_sorted.iloc[korea_rank]['capacity']\n",
    "    gen_korea_total = df_sorted.iloc[korea_rank]['generation']\n",
    "\n",
    "    # color_list = ['lightsteelblue' for country in df_sorted.index]\n",
    "    # color_list[korea_rank] = 'deepskyblue'\n",
    "\n",
    "    rank_ul = get_rank_ul(korea_rank, df_sorted)\n",
    "\n",
    "    df_sorted[:rank_ul].plot(\n",
    "        y=['capacity', 'generation'], kind='bar')\n",
    "    plt.grid(axis='y')\n",
    "    plt.title(f'World Capacity, Generatin and Utilization of Renewables in {year}')\n",
    "    plt.ylabel('capacity [MW] & generation [GWh]')\n",
    "\n",
    "    annotate_y_coord = min(max(\n",
    "        gen_korea_total * 1.2, plt.gca().get_ylim()[1] * 0.1), df_sorted['generation'].max())\n",
    "    plt.gca().annotate(f'Korea:\\ncapacity: {cap_korea_total:,.0f}MW\\ngeneration: {gen_korea_total:,.0f}GWh',\n",
    "                        xy=(korea_rank, annotate_y_coord), fontsize=10, color='green',\n",
    "                        bbox=dict(boxstyle='round,pad=0.2', fc='yellow', alpha=0.3))\n",
    "\n",
    "    ax = plt.gca()\n",
    "    df_sorted[:rank_ul].plot(\n",
    "        y='utilization', kind='line', linestyle='--', secondary_y=True, sharex=True, rot=90, ax=ax)\n",
    "    plt.ylabel('utilization [kh]')\n",
    "    ax.grid(axis='y')\n",
    "\n",
    "\n",
    "    png_file_name = f'world_{year}_renewables_cap_gen_util.png'\n",
    "    save_or_show_fig(save=k_figsave, file_name=png_file_name)\n",
    "\n",
    "    cap_world_total = df['capacity'].sum()\n",
    "    cap_korea_pct = cap_korea_total / cap_world_total * 100\n",
    "    print(f'Korea ranking               : {korea_rank + 1:>16}')\n",
    "    print(f'capacity world total [MW]   : {cap_world_total:>16,.0f}')\n",
    "    print(f'capacity Korea total [MW]   : {cap_korea_total:>16,.0f}')\n",
    "    print(f'capacity Korea percent [%]  : {cap_korea_pct:>16,.1f}')    \n",
    "    print()\n",
    "\n",
    "    gen_world_total = df['generation'].sum()\n",
    "    gen_korea_pct = gen_korea_total / gen_world_total * 100\n",
    "    print(f'Korea ranking               : {korea_rank + 1:>16}')\n",
    "    print(f'generation world total [MW] : {gen_world_total:>16,.0f}')\n",
    "    print(f'generation Korea total [MW] : {gen_korea_total:>16,.0f}')\n",
    "    print(f'generation Korea percent [%]: {gen_korea_pct:>16,.1f}')    \n",
    "\n",
    "\n",
    "    df = df_irena[df_irena['year'] == year].groupby(\n",
    "        ['country', 'technology']).sum()\n",
    "    df.reset_index(inplace=True)\n",
    "    df.set_index('country', inplace=True)    \n",
    "    for energy in renewables:\n",
    "        df_sorted = df[df['technology'] == energy].sort_values(\n",
    "            by=['capacity', 'generation'], ascending=False)\n",
    "        korea_rank = list(df_sorted.index).index('S. Korea')\n",
    "        korea_cap_total = df_sorted.iloc[korea_rank]['capacity']\n",
    "        korea_gen_total = df_sorted.iloc[korea_rank]['generation']\n",
    "\n",
    "        rank_ul = get_rank_ul(rank=korea_rank, df=df_sorted)\n",
    "\n",
    "        df_sorted[:rank_ul].plot(\n",
    "            y=['capacity', 'generation'], kind='bar', stacked=False)\n",
    "        plt.ylabel('capacity [MW]/ generation[GWh]')\n",
    "        ax = plt.gca()\n",
    "\n",
    "        plt.title(f'Capacity and Generation of {energy} in {year}')\n",
    "\n",
    "        annotate_y_coord = min(max(\n",
    "            korea_gen_total * 1.2, plt.gca().get_ylim()[1] * 0.1), df_sorted['generation'].max())\n",
    "        plt.gca().annotate(f'Korea\\ncapacity    {korea_cap_total:,.0f}MW\\ngeneration {korea_gen_total:,.0f}GWh',\n",
    "                            xy=(korea_rank, annotate_y_coord), fontsize=10, color='green',\n",
    "                            bbox=dict(boxstyle='round,pad=0.2', fc='yellow', alpha=0.3))\n",
    "\n",
    "        df_sorted[:rank_ul].plot(\n",
    "            y='utilization', kind='line', linestyle='--', secondary_y=True, sharex=True, rot=90, ax=ax)\n",
    "        plt.ylabel('utilization [kh]')\n",
    "        ax.grid(axis='y')\n",
    "\n",
    "        png_file_name = f'world_{year}_{energy}_cap_gen_util.png'\n",
    "        save_or_show_fig(save=k_figsave, file_name=png_file_name)\n",
    "\n",
    "\n",
    "        cap_world_total = df_sorted['capacity'].sum()\n",
    "        cap_korea_total = korea_cap_total\n",
    "        cap_korea_pct = cap_korea_total / cap_world_total * 100 if cap_world_total != 0 else 0\n",
    "        print(f'Technology                  : {energy}')\n",
    "        print(f'Korea ranking               : {korea_rank + 1:>16}')\n",
    "        print(f'capacity world total [MW]   : {cap_world_total:>16,.0f}')\n",
    "        print(f'capacity Korea total [MW]   : {cap_korea_total:>16,.0f}')\n",
    "        print(f'capacity Korea percent [%]  : {cap_korea_pct:>16,.1f}')    \n",
    "\n",
    "        gen_world_total = df_sorted['generation'].sum()\n",
    "        gen_korea_total = korea_gen_total\n",
    "        gen_korea_pct = gen_korea_total / gen_world_total * 100 if gen_world_total != 0 else 0\n",
    "        print(f'Korea ranking               : {korea_rank + 1:>16}')\n",
    "        print(f'generation world total [MW] : {gen_world_total:>16,.0f}')\n",
    "        print(f'generation Korea total [MW] : {gen_korea_total:>16,.0f}')\n",
    "        print(f'generation Korea percent [%]: {gen_korea_pct:>16,.1f}')    \n",
    "\n",
    "        util_korea = df_sorted.iloc[korea_rank]['utilization']\n",
    "        print(f'utilization [kh]            : {util_korea:>16,.1f}')\n",
    "        print()\n",
    "\n"
   ]
  },
  {
   "cell_type": "code",
   "execution_count": 25,
   "metadata": {},
   "outputs": [],
   "source": [
    "def print_summary(year, country):\n",
    "    global capacity_total, cap_renewable_total, cap_renewable_pct\n",
    "    global generation_total, gen_renewable_total, gen_renewable_pct\n",
    "\n",
    "    # console output\n",
    "    print(f'{country} / {year}:')\n",
    "    print('\\t{:>16}{:>16}{:>16}{:>16}'.format(\n",
    "        '', 'total', 'renewable', '%_renewable'))\n",
    "    print('\\t{:16}{:16,.0f}{:16,.0f}{:16,.1f}%'.format(\n",
    "        'capacity[MW]', capacity_total, cap_renewable_total, cap_renewable_pct))\n",
    "    print('\\t{:16}{:16,.0f}{:16,.0f}{:16,.1f}%'.format(\n",
    "        'generation[GWh]', generation_total, gen_renewable_total, gen_renewable_pct))\n",
    "    print()\n",
    "\n",
    "    "
   ]
  },
  {
   "cell_type": "code",
   "execution_count": 26,
   "metadata": {},
   "outputs": [],
   "source": [
    "def plot_capacity(year, country):\n",
    "    # plot country_year_cap.png\n",
    "\n",
    "    df_cy.sort_values(\n",
    "        by=['capacity', 'generation'], ascending=False, inplace=True)\n",
    "\n",
    "    color_list = []\n",
    "    technologies = df_cy[df_cy['grid'] ==\n",
    "                            'On-grid']['technology'].to_list()\n",
    "    for i, technology in enumerate(technologies):\n",
    "        found = False\n",
    "        for renewable in renewables:\n",
    "            if renewable in technology:\n",
    "                found = True\n",
    "                break\n",
    "        color_list.append('green' if found else 'lightsteelblue')\n",
    "        \n",
    "        \n",
    "    df_cy[df_cy['grid'] == 'On-grid'].plot(\n",
    "        x='technology', y='capacity', kind='bar', color=color_list)\n",
    "    plt.grid(axis='y')\n",
    "    plt.title(f'Capacity by Technology in MW of {country} in {year}')\n",
    "    plt.ylabel('capacity [MW]')\n",
    "    plt.xticks(rotation=90)\n",
    "    annotate_y_coord = min(cap_renewable_total,\n",
    "                            df_cy['capacity'].max())\n",
    "    plt.gca().annotate(f'renewable total {cap_renewable_total:,.0f}MW', xy=(3, annotate_y_coord), fontsize=10, color='green',\n",
    "                        bbox=dict(boxstyle='round,pad=0.2', fc='yellow', alpha=0.3))\n",
    "\n",
    "    png_file_name = f'{country}_{year}_cap.png'\n",
    "    save_or_show_fig(save=k_figsave, file_name=png_file_name)\n"
   ]
  },
  {
   "cell_type": "code",
   "execution_count": 27,
   "metadata": {},
   "outputs": [],
   "source": [
    "def plot_capacity_percent(year, country):\n",
    "    # plot country_year_cap_pct.png\n",
    "\n",
    "    df_cy.sort_values(\n",
    "        by=['capacity', 'generation'], ascending=False, inplace=True)\n",
    "\n",
    "    color_list = []\n",
    "    technologies = df_cy[df_cy['grid'] ==\n",
    "                            'On-grid']['technology'].to_list()\n",
    "    for i, technology in enumerate(technologies):\n",
    "        found = False\n",
    "        for renewable in renewables:\n",
    "            if renewable in technology:\n",
    "                found = True\n",
    "                break\n",
    "        color_list.append('green' if found else 'lightsteelblue')\n",
    "            \n",
    "    df_cy[df_cy['grid'] == 'On-grid'].plot(\n",
    "        x='technology', y='capacity_pct', kind='bar', color=color_list)\n",
    "    plt.grid(axis='y')\n",
    "    plt.title(f'% Capacity by Technology in Percent of {country} in {year}')\n",
    "    plt.ylabel('capacity [%]')\n",
    "    plt.xticks(rotation=90)\n",
    "    annotate_y_coord = min(\n",
    "        cap_renewable_pct, df_cy['capacity_pct'].max())\n",
    "    plt.gca().annotate(f'renewable total {cap_renewable_pct:,.1f}%', xy=(3, annotate_y_coord), fontsize=10, color='green',\n",
    "                        bbox=dict(boxstyle='round,pad=0.2', fc='yellow', alpha=0.3))\n",
    "\n",
    "    png_file_name = f'{country}_{year}_cap_pct.png'\n",
    "    save_or_show_fig(save=k_figsave, file_name=png_file_name)\n"
   ]
  },
  {
   "cell_type": "code",
   "execution_count": 28,
   "metadata": {},
   "outputs": [],
   "source": [
    "def plot_generation(year, country):\n",
    "    # plot country_year_gen.png\n",
    "\n",
    "    df_cy.sort_values(\n",
    "        by=['generation', 'capacity'], ascending=False, inplace=True)\n",
    "\n",
    "    color_list = []\n",
    "    technologies = df_cy[df_cy['grid'] ==\n",
    "                            'On-grid']['technology'].to_list()\n",
    "    for i, technology in enumerate(technologies):\n",
    "        found = False\n",
    "        for renewable in renewables:\n",
    "            if renewable in technology:\n",
    "                found = True\n",
    "                break\n",
    "        color_list.append('green' if found else 'lightsteelblue')\n",
    "\n",
    "    df_cy[df_cy['grid'] == 'On-grid'].plot(\n",
    "        x='technology', y='generation', kind='bar', color=color_list)\n",
    "    plt.grid(axis='y')\n",
    "    plt.title(f'Generation by Technology in GWh of {country} in {year}')\n",
    "    plt.ylabel('generation[GWh]')\n",
    "    plt.xticks(rotation=90)\n",
    "    annotate_y_coord = min(gen_renewable_total,\n",
    "                            df_cy['generation'].max())\n",
    "    plt.gca().annotate(f'renewable total {gen_renewable_total:,.0f}GWh', xy=(3, annotate_y_coord), fontsize=10, color='green',\n",
    "                        bbox=dict(boxstyle='round,pad=0.2', fc='yellow', alpha=0.3))\n",
    "\n",
    "    png_file_name = f'{country}_{year}_gen.png'\n",
    "    save_or_show_fig(save=k_figsave, file_name=png_file_name)\n"
   ]
  },
  {
   "cell_type": "code",
   "execution_count": 29,
   "metadata": {},
   "outputs": [],
   "source": [
    "def plot_generation_percent(year, country):\n",
    "    # plot country_year_gen_pct.png\n",
    "\n",
    "    df_cy.sort_values(\n",
    "        by=['generation', 'capacity'], ascending=False, inplace=True)\n",
    "\n",
    "    color_list = []\n",
    "    technologies = df_cy[df_cy['grid'] ==\n",
    "                            'On-grid']['technology'].to_list()\n",
    "    for i, technology in enumerate(technologies):\n",
    "        found = False\n",
    "        for renewable in renewables:\n",
    "            if renewable in technology:\n",
    "                found = True\n",
    "                break\n",
    "        color_list.append('green' if found else 'lightsteelblue')\n",
    "\n",
    "    df_cy[df_cy['grid'] == 'On-grid'].plot(\n",
    "        x='technology', y='generation_pct', kind='bar', color=color_list)\n",
    "    plt.grid(axis='y')\n",
    "    plt.title(f'% Generation by Technology in Percent of {country} in {year}')\n",
    "    plt.ylabel('generation [%]')\n",
    "    plt.xticks(rotation=90)\n",
    "\n",
    "    annotate_y_coord = min(\n",
    "        gen_renewable_pct, df_cy['generation_pct'].max())\n",
    "    plt.gca().annotate(f'renewable total {gen_renewable_pct:.1f}%', xy=(3, annotate_y_coord), fontsize=10, color='green',\n",
    "                        bbox=dict(boxstyle='round,pad=0.2', fc='yellow', alpha=0.3))\n",
    "\n",
    "    png_file_name = f'{country}_{year}_gen_pct.png'\n",
    "    save_or_show_fig(k_figsave, png_file_name)\n",
    "\n"
   ]
  },
  {
   "cell_type": "code",
   "execution_count": 30,
   "metadata": {},
   "outputs": [],
   "source": [
    "def plot_capacity_generation(year, country):\n",
    "    # plot country_year_cap_gen.png\n",
    "\n",
    "    df_cy.sort_values(\n",
    "        by=['capacity', 'generation'], ascending=False, inplace=True)\n",
    "\n",
    "    color_list = []\n",
    "    technologies = df_cy[df_cy['grid'] ==\n",
    "                            'On-grid']['technology'].to_list()\n",
    "    for i, technology in enumerate(technologies):\n",
    "        found = False\n",
    "        for renewable in renewables:\n",
    "            if renewable in technology:\n",
    "                found = True\n",
    "                break\n",
    "        color_list.append('green' if found else 'lightsteelblue')\n",
    "\n",
    "    df_cy[df_cy['grid'] == 'On-grid'].plot(\n",
    "        x='technology', y=['capacity', 'generation'], kind='bar')\n",
    "    plt.grid(axis='y')\n",
    "    plt.title(\n",
    "        f'Capacity and Generation by Technology of {country} in {year}')\n",
    "    plt.ylabel('capacity [MW] / generation [GWh]')\n",
    "    plt.xticks(rotation=90)\n",
    "    annotate_y_coord = min(cap_renewable_total,\n",
    "                            df_cy['generation'].max())\n",
    "    plt.gca().annotate(f'renewable total:\\ncapacity    {cap_renewable_total:,.0f}MW\\ngeneration {gen_renewable_total:,.0f}GWh', xy=(3, annotate_y_coord), fontsize=10, color='green',\n",
    "                        bbox=dict(boxstyle='round,pad=0.2', fc='yellow', alpha=0.3))\n",
    "\n",
    "    png_file_name = f'{country}_{year}_cap_gen.png'\n",
    "    save_or_show_fig(save=k_figsave, file_name=png_file_name)\n",
    "\n",
    "    "
   ]
  },
  {
   "cell_type": "code",
   "execution_count": 31,
   "metadata": {},
   "outputs": [],
   "source": [
    "def plot_capacity_generation_percent(year, country):\n",
    "    # plot country_year_cap_gen_pct.png\n",
    "\n",
    "\n",
    "    df_cy.sort_values(by=['capacity', 'generation'], ascending=False, inplace=True)\n",
    "\n",
    "    color_list = []\n",
    "    technologies = df_cy[df_cy['grid'] ==\n",
    "                            'On-grid']['technology'].to_list()\n",
    "    for i, technology in enumerate(technologies):\n",
    "        found = False\n",
    "        for renewable in renewables:\n",
    "            if renewable in technology:\n",
    "                found = True\n",
    "                break\n",
    "        color_list.append('green' if found else 'lightsteelblue')\n",
    "\n",
    "    df_cy[df_cy['grid'] == 'On-grid'].plot(\n",
    "        x='technology', y=['capacity_pct', 'generation_pct'], kind='bar')\n",
    "    plt.grid(axis='y')\n",
    "    plt.title(\n",
    "        f'% Capacity and Generation by Technology of {country} in {year}')\n",
    "    plt.ylabel('capacity [%] / generation [%]')\n",
    "    plt.xticks(rotation=90)\n",
    "    annotate_y_coord = min(\n",
    "        cap_renewable_pct, df_cy['capacity_pct'].max())\n",
    "    plt.gca().annotate(f'renewable total:\\ncapacity    {cap_renewable_pct:,.1f}%\\ngeneration {gen_renewable_pct:,.1f}%', xy=(3, annotate_y_coord), fontsize=10, color='green',\n",
    "                        bbox=dict(boxstyle='round,pad=0.2', fc='yellow', alpha=0.3))\n",
    "\n",
    "    png_file_name = f'{country}_{year}_cap_gen_pct.png'\n",
    "    save_or_show_fig(k_figsave, png_file_name)    "
   ]
  },
  {
   "cell_type": "code",
   "execution_count": 34,
   "metadata": {},
   "outputs": [
    {
     "name": "stdout",
     "output_type": "stream",
     "text": [
      "world / 2019\n",
      "\tworld_2019_cap.png\n",
      "Korea ranking               :               10\n",
      "capacity world total [MW]   :        7,365,732\n",
      "capacity Korea total [MW]   :          134,167\n",
      "capacity Korea percent [%]  :              1.8\n",
      "\tworld_2019_gen.png\n",
      "Korea ranking               :                9\n",
      "generation world total [GWh]:       26,766,124\n",
      "generation korea total [GWh]:          581,493\n",
      "generation korea percent [%]:              2.2\n",
      "\tworld_2019_cap_gen.png\n",
      "Korea ranking               :               10\n",
      "capacity world total [MW]   :        7,365,732\n",
      "capacity Korea total [MW]   :          134,167\n",
      "capacity Korea percent [%]  :              1.8\n",
      "Korea ranking               :               10\n",
      "generation world total [GWh]:       26,766,124\n",
      "generation korea total [GWh]:          581,493\n",
      "generation korea percent [%]:              2.2\n",
      "\tworld_2019_util.png\n",
      "Korea ranking               :               23\n",
      "utilization world mean [GWh]:                3\n",
      "utilization korea      [GWh]:                4\n",
      "\tworld_2019_renewables_cap.png\n",
      "Korea ranking               :               19\n",
      "capacity world total [MW]   :        2,682,380\n",
      "capacity Korea total [MW]   :           23,488\n",
      "capacity Korea percent [%]  :              0.9\n",
      "\n",
      "\tworld_2019_On-grid Solar photovoltaic_cap.png\n",
      "technology                  : On-grid Solar photovoltaic\n",
      "Korea ranking               :                9\n",
      "capacity world total [MW]   :          579,556\n",
      "capacity Korea total [MW]   :           11,952\n",
      "capacity Korea percent [%]  :              2.1\n",
      "\n",
      "\tworld_2019_Off-grid Solar photovoltaic_cap.png\n",
      "technology                  : Off-grid Solar photovoltaic\n",
      "Korea ranking               :              200\n",
      "capacity world total [MW]   :            4,316\n",
      "capacity Korea total [MW]   :                0\n",
      "capacity Korea percent [%]  :              0.0\n",
      "\n",
      "\tworld_2019_Concentrated solar power_cap.png\n",
      "technology                  : Concentrated solar power\n",
      "Korea ranking               :              173\n",
      "capacity world total [MW]   :            6,384\n",
      "capacity Korea total [MW]   :                0\n",
      "capacity Korea percent [%]  :              0.0\n",
      "\n",
      "\tworld_2019_Onshore wind energy_cap.png\n",
      "technology                  : Onshore wind energy\n",
      "Korea ranking               :               32\n",
      "capacity world total [MW]   :          593,291\n",
      "capacity Korea total [MW]   :            1,421\n",
      "capacity Korea percent [%]  :              0.2\n",
      "\n",
      "\tworld_2019_Offshore wind energy_cap.png\n",
      "technology                  : Offshore wind energy\n",
      "Korea ranking               :               11\n",
      "capacity world total [MW]   :           28,355\n",
      "capacity Korea total [MW]   :               73\n",
      "capacity Korea percent [%]  :              0.3\n",
      "\n",
      "\tworld_2019_Renewable hydropower_cap.png\n",
      "technology                  : Renewable hydropower\n",
      "Korea ranking               :               66\n",
      "capacity world total [MW]   :        1,134,546\n",
      "capacity Korea total [MW]   :            1,809\n",
      "capacity Korea percent [%]  :              0.2\n",
      "\n",
      "\tworld_2019_Mixed Hydro Plants_cap.png\n",
      "technology                  : Mixed Hydro Plants\n",
      "Korea ranking               :              173\n",
      "capacity world total [MW]   :           57,024\n",
      "capacity Korea total [MW]   :                0\n",
      "capacity Korea percent [%]  :              0.0\n",
      "\n",
      "\tworld_2019_Pumped storage_cap.png\n",
      "technology                  : Pumped storage\n",
      "Korea ranking               :                6\n",
      "capacity world total [MW]   :          120,599\n",
      "capacity Korea total [MW]   :            4,700\n",
      "capacity Korea percent [%]  :              3.9\n",
      "\n",
      "\tworld_2019_Solid biofuels_cap.png\n",
      "technology                  : Solid biofuels\n",
      "Korea ranking               :               10\n",
      "capacity world total [MW]   :           87,962\n",
      "capacity Korea total [MW]   :            1,992\n",
      "capacity Korea percent [%]  :              2.3\n",
      "\n",
      "\tworld_2019_Renewable municipal waste_cap.png\n",
      "technology                  : Renewable municipal waste\n",
      "Korea ranking               :               22\n",
      "capacity world total [MW]   :           14,348\n",
      "capacity Korea total [MW]   :               64\n",
      "capacity Korea percent [%]  :              0.4\n",
      "\n",
      "\tworld_2019_Liquid biofuels_cap.png\n",
      "technology                  : Liquid biofuels\n",
      "Korea ranking               :                3\n",
      "capacity world total [MW]   :            2,626\n",
      "capacity Korea total [MW]   :              348\n",
      "capacity Korea percent [%]  :             13.3\n",
      "\n",
      "\tworld_2019_Biogas_cap.png\n",
      "technology                  : Biogas\n",
      "Korea ranking               :               19\n",
      "capacity world total [MW]   :           19,240\n",
      "capacity Korea total [MW]   :              139\n",
      "capacity Korea percent [%]  :              0.7\n",
      "\n",
      "\tworld_2019_Geothermal energy_cap.png\n",
      "technology                  : Geothermal energy\n",
      "Korea ranking               :              169\n",
      "capacity world total [MW]   :           13,862\n",
      "capacity Korea total [MW]   :                0\n",
      "capacity Korea percent [%]  :              0.0\n",
      "\n",
      "\tworld_2019_Marine energy_cap.png\n",
      "technology                  : Marine energy\n",
      "Korea ranking               :                1\n",
      "capacity world total [MW]   :              525\n",
      "capacity Korea total [MW]   :              256\n",
      "capacity Korea percent [%]  :             48.8\n",
      "\n",
      "\tworld_2019_Other non-renewable energy_cap.png\n",
      "technology                  : Other non-renewable energy\n",
      "Korea ranking               :                6\n",
      "capacity world total [MW]   :           19,748\n",
      "capacity Korea total [MW]   :              734\n",
      "capacity Korea percent [%]  :              3.7\n",
      "\n",
      "\tworld_2019_renewables_gen.png\n",
      "Korea ranking               :               30\n",
      "generation world total [MW] :        7,222,134\n",
      "generation Korea total [MW] :           34,113\n",
      "generation Korea percent [%]:              0.5\n",
      "\n",
      "\tworld_2019_On-grid Solar photovoltaic_gen.png\n",
      "technology                  : On-grid Solar photovoltaic\n",
      "Korea ranking               :                8\n",
      "generation world total [MW] :          673,165\n",
      "generation Korea total [MW] :           12,996\n",
      "generation Korea percent [%]:              1.9\n",
      "\n",
      "\tworld_2019_Off-grid Solar photovoltaic_gen.png\n",
      "technology                  : Off-grid Solar photovoltaic\n",
      "Korea ranking               :              200\n",
      "generation world total [MW] :            5,834\n",
      "generation Korea total [MW] :                0\n",
      "generation Korea percent [%]:              0.0\n",
      "\n",
      "\tworld_2019_Concentrated solar power_gen.png\n",
      "technology                  : Concentrated solar power\n",
      "Korea ranking               :              173\n",
      "generation world total [MW] :           14,064\n",
      "generation Korea total [MW] :                0\n",
      "generation Korea percent [%]:              0.0\n",
      "\n",
      "\tworld_2019_Onshore wind energy_gen.png\n",
      "technology                  : Onshore wind energy\n",
      "Korea ranking               :               34\n",
      "generation world total [MW] :        1,328,054\n",
      "generation Korea total [MW] :            2,588\n",
      "generation Korea percent [%]:              0.2\n",
      "\n",
      "\tworld_2019_Offshore wind energy_gen.png\n",
      "technology                  : Offshore wind energy\n",
      "Korea ranking               :               13\n",
      "generation world total [MW] :           84,330\n",
      "generation Korea total [MW] :               92\n",
      "generation Korea percent [%]:              0.1\n",
      "\n",
      "\tworld_2019_Renewable hydropower_gen.png\n",
      "technology                  : Renewable hydropower\n",
      "Korea ranking               :               81\n",
      "generation world total [MW] :        4,207,124\n",
      "generation Korea total [MW] :            2,791\n",
      "generation Korea percent [%]:              0.1\n",
      "\n",
      "\tworld_2019_Mixed Hydro Plants_gen.png\n",
      "technology                  : Mixed Hydro Plants\n",
      "Korea ranking               :              173\n",
      "generation world total [MW] :                0\n",
      "generation Korea total [MW] :                0\n",
      "generation Korea percent [%]:              nan\n",
      "\n",
      "\tworld_2019_Pumped storage_gen.png\n"
     ]
    },
    {
     "name": "stderr",
     "output_type": "stream",
     "text": [
      "C:\\Users\\haese\\AppData\\Local\\Temp/ipykernel_18672/686785432.py:85: RuntimeWarning: invalid value encountered in double_scalars\n",
      "  gen_korea_pct = gen_korea_total / gen_world_total * 100\n"
     ]
    },
    {
     "name": "stdout",
     "output_type": "stream",
     "text": [
      "technology                  : Pumped storage\n",
      "Korea ranking               :                8\n",
      "generation world total [MW] :          114,489\n",
      "generation Korea total [MW] :            3,458\n",
      "generation Korea percent [%]:              3.0\n",
      "\n",
      "\tworld_2019_Solid biofuels_gen.png\n",
      "technology                  : Solid biofuels\n",
      "Korea ranking               :               14\n",
      "generation world total [MW] :          389,147\n",
      "generation Korea total [MW] :            5,415\n",
      "generation Korea percent [%]:              1.4\n",
      "\n",
      "\tworld_2019_Renewable municipal waste_gen.png\n",
      "technology                  : Renewable municipal waste\n",
      "Korea ranking               :               25\n",
      "generation world total [MW] :           68,506\n",
      "generation Korea total [MW] :              163\n",
      "generation Korea percent [%]:              0.2\n",
      "\n",
      "\tworld_2019_Liquid biofuels_gen.png\n",
      "technology                  : Liquid biofuels\n",
      "Korea ranking               :                2\n",
      "generation world total [MW] :            8,382\n",
      "generation Korea total [MW] :            2,295\n",
      "generation Korea percent [%]:             27.4\n",
      "\n",
      "\tworld_2019_Biogas_gen.png\n",
      "technology                  : Biogas\n",
      "Korea ranking               :               20\n",
      "generation world total [MW] :           91,819\n",
      "generation Korea total [MW] :              591\n",
      "generation Korea percent [%]:              0.6\n",
      "\n",
      "\tworld_2019_Geothermal energy_gen.png\n",
      "technology                  : Geothermal energy\n",
      "Korea ranking               :              169\n",
      "generation world total [MW] :           92,047\n",
      "generation Korea total [MW] :                0\n",
      "generation Korea percent [%]:              0.0\n",
      "\n",
      "\tworld_2019_Marine energy_gen.png\n",
      "technology                  : Marine energy\n",
      "Korea ranking               :                2\n",
      "generation world total [MW] :              975\n",
      "generation Korea total [MW] :              474\n",
      "generation Korea percent [%]:             48.6\n",
      "\n",
      "\tworld_2019_Other non-renewable energy_gen.png\n",
      "technology                  : Other non-renewable energy\n",
      "Korea ranking               :                8\n",
      "generation world total [MW] :          144,198\n",
      "generation Korea total [MW] :            3,250\n",
      "generation Korea percent [%]:              2.3\n",
      "\n",
      "\tworld_2019_renewables_cap_gen.png\n",
      "Korea ranking               :               19\n",
      "capacity world total [MW]   :        2,682,380\n",
      "capacity Korea total [MW]   :           23,488\n",
      "capacity Korea percent [%]  :              0.9\n",
      "\n",
      "Korea ranking               :               19\n",
      "generation world total [MW] :        7,222,134\n",
      "generation Korea total [MW] :           34,113\n",
      "generation Korea percent [%]:              0.5\n",
      "\tworld_2019_On-grid Solar photovoltaic_cap_gen.png\n",
      "Technology                  : On-grid Solar photovoltaic\n",
      "Korea ranking               :                9\n",
      "capacity world total [MW]   :          579,556\n",
      "capacity Korea total [MW]   :           11,952\n",
      "capacity Korea percent [%]  :              2.1\n",
      "Korea ranking               :                9\n",
      "generation world total [MW] :          673,165\n",
      "generation Korea total [MW] :           12,996\n",
      "generation Korea percent [%]:              1.9\n",
      "\n",
      "\tworld_2019_Off-grid Solar photovoltaic_cap_gen.png\n",
      "Technology                  : Off-grid Solar photovoltaic\n",
      "Korea ranking               :              200\n",
      "capacity world total [MW]   :            4,316\n",
      "capacity Korea total [MW]   :                0\n",
      "capacity Korea percent [%]  :              0.0\n",
      "Korea ranking               :              200\n",
      "generation world total [MW] :            5,834\n",
      "generation Korea total [MW] :                0\n",
      "generation Korea percent [%]:              0.0\n",
      "\n",
      "\tworld_2019_Concentrated solar power_cap_gen.png\n",
      "Technology                  : Concentrated solar power\n",
      "Korea ranking               :              173\n",
      "capacity world total [MW]   :            6,384\n",
      "capacity Korea total [MW]   :                0\n",
      "capacity Korea percent [%]  :              0.0\n",
      "Korea ranking               :              173\n",
      "generation world total [MW] :           14,064\n",
      "generation Korea total [MW] :                0\n",
      "generation Korea percent [%]:              0.0\n",
      "\n",
      "\tworld_2019_Onshore wind energy_cap_gen.png\n",
      "Technology                  : Onshore wind energy\n",
      "Korea ranking               :               32\n",
      "capacity world total [MW]   :          593,291\n",
      "capacity Korea total [MW]   :            1,421\n",
      "capacity Korea percent [%]  :              0.2\n",
      "Korea ranking               :               32\n",
      "generation world total [MW] :        1,328,054\n",
      "generation Korea total [MW] :            2,588\n",
      "generation Korea percent [%]:              0.2\n",
      "\n",
      "\tworld_2019_Offshore wind energy_cap_gen.png\n",
      "Technology                  : Offshore wind energy\n",
      "Korea ranking               :               11\n",
      "capacity world total [MW]   :           28,355\n",
      "capacity Korea total [MW]   :               73\n",
      "capacity Korea percent [%]  :              0.3\n",
      "Korea ranking               :               11\n",
      "generation world total [MW] :           84,330\n",
      "generation Korea total [MW] :               92\n",
      "generation Korea percent [%]:              0.1\n",
      "\n",
      "\tworld_2019_Renewable hydropower_cap_gen.png\n",
      "Technology                  : Renewable hydropower\n",
      "Korea ranking               :               66\n",
      "capacity world total [MW]   :        1,134,546\n",
      "capacity Korea total [MW]   :            1,809\n",
      "capacity Korea percent [%]  :              0.2\n",
      "Korea ranking               :               66\n",
      "generation world total [MW] :        4,207,124\n",
      "generation Korea total [MW] :            2,791\n",
      "generation Korea percent [%]:              0.1\n",
      "\n",
      "\tworld_2019_Mixed Hydro Plants_cap_gen.png\n",
      "Technology                  : Mixed Hydro Plants\n",
      "Korea ranking               :              173\n",
      "capacity world total [MW]   :           57,024\n",
      "capacity Korea total [MW]   :                0\n",
      "capacity Korea percent [%]  :              0.0\n",
      "Korea ranking               :              173\n",
      "generation world total [MW] :                0\n",
      "generation Korea total [MW] :                0\n",
      "generation Korea percent [%]:              0.0\n",
      "\n",
      "\tworld_2019_Pumped storage_cap_gen.png\n",
      "Technology                  : Pumped storage\n",
      "Korea ranking               :                6\n",
      "capacity world total [MW]   :          120,599\n",
      "capacity Korea total [MW]   :            4,700\n",
      "capacity Korea percent [%]  :              3.9\n",
      "Korea ranking               :                6\n",
      "generation world total [MW] :          114,489\n",
      "generation Korea total [MW] :            3,458\n",
      "generation Korea percent [%]:              3.0\n",
      "\n",
      "\tworld_2019_Solid biofuels_cap_gen.png\n",
      "Technology                  : Solid biofuels\n",
      "Korea ranking               :               10\n",
      "capacity world total [MW]   :           87,962\n",
      "capacity Korea total [MW]   :            1,992\n",
      "capacity Korea percent [%]  :              2.3\n",
      "Korea ranking               :               10\n",
      "generation world total [MW] :          389,147\n",
      "generation Korea total [MW] :            5,415\n",
      "generation Korea percent [%]:              1.4\n",
      "\n",
      "\tworld_2019_Renewable municipal waste_cap_gen.png\n",
      "Technology                  : Renewable municipal waste\n",
      "Korea ranking               :               22\n",
      "capacity world total [MW]   :           14,348\n",
      "capacity Korea total [MW]   :               64\n",
      "capacity Korea percent [%]  :              0.4\n",
      "Korea ranking               :               22\n",
      "generation world total [MW] :           68,506\n",
      "generation Korea total [MW] :              163\n",
      "generation Korea percent [%]:              0.2\n",
      "\n",
      "\tworld_2019_Liquid biofuels_cap_gen.png\n",
      "Technology                  : Liquid biofuels\n",
      "Korea ranking               :                3\n",
      "capacity world total [MW]   :            2,626\n",
      "capacity Korea total [MW]   :              348\n",
      "capacity Korea percent [%]  :             13.3\n",
      "Korea ranking               :                3\n",
      "generation world total [MW] :            8,382\n",
      "generation Korea total [MW] :            2,295\n",
      "generation Korea percent [%]:             27.4\n",
      "\n",
      "\tworld_2019_Biogas_cap_gen.png\n",
      "Technology                  : Biogas\n",
      "Korea ranking               :               19\n",
      "capacity world total [MW]   :           19,240\n",
      "capacity Korea total [MW]   :              139\n",
      "capacity Korea percent [%]  :              0.7\n",
      "Korea ranking               :               19\n",
      "generation world total [MW] :           91,819\n",
      "generation Korea total [MW] :              591\n",
      "generation Korea percent [%]:              0.6\n",
      "\n",
      "\tworld_2019_Geothermal energy_cap_gen.png\n",
      "Technology                  : Geothermal energy\n",
      "Korea ranking               :              169\n",
      "capacity world total [MW]   :           13,862\n",
      "capacity Korea total [MW]   :                0\n",
      "capacity Korea percent [%]  :              0.0\n",
      "Korea ranking               :              169\n",
      "generation world total [MW] :           92,047\n",
      "generation Korea total [MW] :                0\n",
      "generation Korea percent [%]:              0.0\n",
      "\n",
      "\tworld_2019_Marine energy_cap_gen.png\n",
      "Technology                  : Marine energy\n",
      "Korea ranking               :                1\n",
      "capacity world total [MW]   :              525\n",
      "capacity Korea total [MW]   :              256\n",
      "capacity Korea percent [%]  :             48.8\n",
      "Korea ranking               :                1\n",
      "generation world total [MW] :              975\n",
      "generation Korea total [MW] :              474\n",
      "generation Korea percent [%]:             48.6\n",
      "\n",
      "\tworld_2019_Other non-renewable energy_cap_gen.png\n",
      "Technology                  : Other non-renewable energy\n",
      "Korea ranking               :                6\n",
      "capacity world total [MW]   :           19,748\n",
      "capacity Korea total [MW]   :              734\n",
      "capacity Korea percent [%]  :              3.7\n",
      "Korea ranking               :                6\n",
      "generation world total [MW] :          144,198\n",
      "generation Korea total [MW] :            3,250\n",
      "generation Korea percent [%]:              2.3\n",
      "\n",
      "\tworld_2019_renewables_cap_gen_util.png\n",
      "Korea ranking               :               19\n",
      "capacity world total [MW]   :        2,682,380\n",
      "capacity Korea total [MW]   :           23,488\n",
      "capacity Korea percent [%]  :              0.9\n",
      "\n",
      "Korea ranking               :               19\n",
      "generation world total [MW] :        7,222,134\n",
      "generation Korea total [MW] :           34,113\n",
      "generation Korea percent [%]:              0.5\n",
      "\tworld_2019_On-grid Solar photovoltaic_cap_gen_util.png\n",
      "Technology                  : On-grid Solar photovoltaic\n",
      "Korea ranking               :                9\n",
      "capacity world total [MW]   :          579,556\n",
      "capacity Korea total [MW]   :           11,952\n",
      "capacity Korea percent [%]  :              2.1\n",
      "Korea ranking               :                9\n",
      "generation world total [MW] :          673,165\n",
      "generation Korea total [MW] :           12,996\n",
      "generation Korea percent [%]:              1.9\n",
      "utilization [kh]            :              1.1\n",
      "\n",
      "\tworld_2019_Off-grid Solar photovoltaic_cap_gen_util.png\n",
      "Technology                  : Off-grid Solar photovoltaic\n",
      "Korea ranking               :              200\n",
      "capacity world total [MW]   :            4,316\n",
      "capacity Korea total [MW]   :                0\n",
      "capacity Korea percent [%]  :              0.0\n",
      "Korea ranking               :              200\n",
      "generation world total [MW] :            5,834\n",
      "generation Korea total [MW] :                0\n",
      "generation Korea percent [%]:              0.0\n",
      "utilization [kh]            :              0.0\n",
      "\n",
      "\tworld_2019_Concentrated solar power_cap_gen_util.png\n",
      "Technology                  : Concentrated solar power\n",
      "Korea ranking               :              173\n",
      "capacity world total [MW]   :            6,384\n",
      "capacity Korea total [MW]   :                0\n",
      "capacity Korea percent [%]  :              0.0\n",
      "Korea ranking               :              173\n",
      "generation world total [MW] :           14,064\n",
      "generation Korea total [MW] :                0\n",
      "generation Korea percent [%]:              0.0\n",
      "utilization [kh]            :              0.0\n",
      "\n",
      "\tworld_2019_Onshore wind energy_cap_gen_util.png\n",
      "Technology                  : Onshore wind energy\n",
      "Korea ranking               :               32\n",
      "capacity world total [MW]   :          593,291\n",
      "capacity Korea total [MW]   :            1,421\n",
      "capacity Korea percent [%]  :              0.2\n",
      "Korea ranking               :               32\n",
      "generation world total [MW] :        1,328,054\n",
      "generation Korea total [MW] :            2,588\n",
      "generation Korea percent [%]:              0.2\n",
      "utilization [kh]            :              1.8\n",
      "\n",
      "\tworld_2019_Offshore wind energy_cap_gen_util.png\n",
      "Technology                  : Offshore wind energy\n",
      "Korea ranking               :               11\n",
      "capacity world total [MW]   :           28,355\n",
      "capacity Korea total [MW]   :               73\n",
      "capacity Korea percent [%]  :              0.3\n",
      "Korea ranking               :               11\n",
      "generation world total [MW] :           84,330\n",
      "generation Korea total [MW] :               92\n",
      "generation Korea percent [%]:              0.1\n",
      "utilization [kh]            :              1.3\n",
      "\n",
      "\tworld_2019_Renewable hydropower_cap_gen_util.png\n",
      "Technology                  : Renewable hydropower\n",
      "Korea ranking               :               66\n",
      "capacity world total [MW]   :        1,134,546\n",
      "capacity Korea total [MW]   :            1,809\n",
      "capacity Korea percent [%]  :              0.2\n",
      "Korea ranking               :               66\n",
      "generation world total [MW] :        4,207,124\n",
      "generation Korea total [MW] :            2,791\n",
      "generation Korea percent [%]:              0.1\n",
      "utilization [kh]            :              1.5\n",
      "\n",
      "\tworld_2019_Mixed Hydro Plants_cap_gen_util.png\n",
      "Technology                  : Mixed Hydro Plants\n",
      "Korea ranking               :              173\n",
      "capacity world total [MW]   :           57,024\n",
      "capacity Korea total [MW]   :                0\n",
      "capacity Korea percent [%]  :              0.0\n",
      "Korea ranking               :              173\n",
      "generation world total [MW] :                0\n",
      "generation Korea total [MW] :                0\n",
      "generation Korea percent [%]:              0.0\n",
      "utilization [kh]            :              0.0\n",
      "\n",
      "\tworld_2019_Pumped storage_cap_gen_util.png\n",
      "Technology                  : Pumped storage\n",
      "Korea ranking               :                6\n",
      "capacity world total [MW]   :          120,599\n",
      "capacity Korea total [MW]   :            4,700\n",
      "capacity Korea percent [%]  :              3.9\n",
      "Korea ranking               :                6\n",
      "generation world total [MW] :          114,489\n",
      "generation Korea total [MW] :            3,458\n",
      "generation Korea percent [%]:              3.0\n",
      "utilization [kh]            :              0.7\n",
      "\n",
      "\tworld_2019_Solid biofuels_cap_gen_util.png\n",
      "Technology                  : Solid biofuels\n",
      "Korea ranking               :               10\n",
      "capacity world total [MW]   :           87,962\n",
      "capacity Korea total [MW]   :            1,992\n",
      "capacity Korea percent [%]  :              2.3\n",
      "Korea ranking               :               10\n",
      "generation world total [MW] :          389,147\n",
      "generation Korea total [MW] :            5,415\n",
      "generation Korea percent [%]:              1.4\n",
      "utilization [kh]            :              2.7\n",
      "\n",
      "\tworld_2019_Renewable municipal waste_cap_gen_util.png\n",
      "Technology                  : Renewable municipal waste\n",
      "Korea ranking               :               22\n",
      "capacity world total [MW]   :           14,348\n",
      "capacity Korea total [MW]   :               64\n",
      "capacity Korea percent [%]  :              0.4\n",
      "Korea ranking               :               22\n",
      "generation world total [MW] :           68,506\n",
      "generation Korea total [MW] :              163\n",
      "generation Korea percent [%]:              0.2\n",
      "utilization [kh]            :              2.6\n",
      "\n",
      "\tworld_2019_Liquid biofuels_cap_gen_util.png\n",
      "Technology                  : Liquid biofuels\n",
      "Korea ranking               :                3\n",
      "capacity world total [MW]   :            2,626\n",
      "capacity Korea total [MW]   :              348\n",
      "capacity Korea percent [%]  :             13.3\n",
      "Korea ranking               :                3\n",
      "generation world total [MW] :            8,382\n",
      "generation Korea total [MW] :            2,295\n",
      "generation Korea percent [%]:             27.4\n",
      "utilization [kh]            :              6.6\n",
      "\n",
      "\tworld_2019_Biogas_cap_gen_util.png\n",
      "Technology                  : Biogas\n",
      "Korea ranking               :               19\n",
      "capacity world total [MW]   :           19,240\n",
      "capacity Korea total [MW]   :              139\n",
      "capacity Korea percent [%]  :              0.7\n",
      "Korea ranking               :               19\n",
      "generation world total [MW] :           91,819\n",
      "generation Korea total [MW] :              591\n",
      "generation Korea percent [%]:              0.6\n",
      "utilization [kh]            :              4.3\n",
      "\n",
      "\tworld_2019_Geothermal energy_cap_gen_util.png\n",
      "Technology                  : Geothermal energy\n",
      "Korea ranking               :              169\n",
      "capacity world total [MW]   :           13,862\n",
      "capacity Korea total [MW]   :                0\n",
      "capacity Korea percent [%]  :              0.0\n",
      "Korea ranking               :              169\n",
      "generation world total [MW] :           92,047\n",
      "generation Korea total [MW] :                0\n",
      "generation Korea percent [%]:              0.0\n",
      "utilization [kh]            :              0.0\n",
      "\n",
      "\tworld_2019_Marine energy_cap_gen_util.png\n",
      "Technology                  : Marine energy\n",
      "Korea ranking               :                1\n",
      "capacity world total [MW]   :              525\n",
      "capacity Korea total [MW]   :              256\n",
      "capacity Korea percent [%]  :             48.8\n",
      "Korea ranking               :                1\n",
      "generation world total [MW] :              975\n",
      "generation Korea total [MW] :              474\n",
      "generation Korea percent [%]:             48.6\n",
      "utilization [kh]            :              1.9\n",
      "\n",
      "\tworld_2019_Other non-renewable energy_cap_gen_util.png\n",
      "Technology                  : Other non-renewable energy\n",
      "Korea ranking               :                6\n",
      "capacity world total [MW]   :           19,748\n",
      "capacity Korea total [MW]   :              734\n",
      "capacity Korea percent [%]  :              3.7\n",
      "Korea ranking               :                6\n",
      "generation world total [MW] :          144,198\n",
      "generation Korea total [MW] :            3,250\n",
      "generation Korea percent [%]:              2.3\n",
      "utilization [kh]            :              4.4\n",
      "\n"
     ]
    },
    {
     "name": "stderr",
     "output_type": "stream",
     "text": [
      "C:\\Users\\haese\\AppData\\Local\\Programs\\Python\\Python38\\lib\\site-packages\\pandas\\core\\indexing.py:1667: SettingWithCopyWarning: \n",
      "A value is trying to be set on a copy of a slice from a DataFrame.\n",
      "Try using .loc[row_indexer,col_indexer] = value instead\n",
      "\n",
      "See the caveats in the documentation: https://pandas.pydata.org/pandas-docs/stable/user_guide/indexing.html#returning-a-view-versus-a-copy\n",
      "  self.obj[key] = value\n",
      "C:\\Users\\haese\\AppData\\Local\\Programs\\Python\\Python38\\lib\\site-packages\\pandas\\util\\_decorators.py:311: SettingWithCopyWarning: \n",
      "A value is trying to be set on a copy of a slice from a DataFrame\n",
      "\n",
      "See the caveats in the documentation: https://pandas.pydata.org/pandas-docs/stable/user_guide/indexing.html#returning-a-view-versus-a-copy\n",
      "  return func(*args, **kwargs)\n"
     ]
    },
    {
     "name": "stdout",
     "output_type": "stream",
     "text": [
      "\tS. Korea_2019_cap.png\n",
      "\tS. Korea_2019_cap_pct.png\n",
      "\tS. Korea_2019_gen.png\n",
      "\tS. Korea_2019_gen_pct.png\n",
      "\tS. Korea_2019_cap_gen.png\n",
      "\tS. Korea_2019_cap_gen_pct.png\n",
      "S. Korea / 2019:\n",
      "\t                           total       renewable     %_renewable\n",
      "\tcapacity[MW]             134,167          23,488            17.5%\n",
      "\tgeneration[GWh]          581,493          34,113             5.9%\n",
      "\n",
      "\tChina_2019_cap.png\n",
      "\tChina_2019_cap_pct.png\n",
      "\tChina_2019_gen.png\n",
      "\tChina_2019_gen_pct.png\n",
      "\tChina_2019_cap_gen.png\n",
      "\tChina_2019_cap_gen_pct.png\n",
      "China / 2019:\n",
      "\t                           total       renewable     %_renewable\n",
      "\tcapacity[MW]           2,010,932         795,168            39.5%\n",
      "\tgeneration[GWh]        7,504,487       2,048,587            27.3%\n",
      "\n",
      "\tUSA_2019_cap.png\n",
      "\tUSA_2019_cap_pct.png\n",
      "\tUSA_2019_gen.png\n",
      "\tUSA_2019_gen_pct.png\n",
      "\tUSA_2019_cap_gen.png\n",
      "\tUSA_2019_cap_gen_pct.png\n",
      "USA / 2019:\n",
      "\t                           total       renewable     %_renewable\n",
      "\tcapacity[MW]           1,127,769         284,362            25.2%\n",
      "\tgeneration[GWh]        4,391,764         803,289            18.3%\n",
      "\n",
      "\tJapan_2019_cap.png\n",
      "\tJapan_2019_cap_pct.png\n",
      "\tJapan_2019_gen.png\n",
      "\tJapan_2019_gen_pct.png\n",
      "\tJapan_2019_cap_gen.png\n",
      "\tJapan_2019_cap_gen_pct.png\n",
      "Japan / 2019:\n",
      "\t                           total       renewable     %_renewable\n",
      "\tcapacity[MW]             344,154         122,163            35.5%\n",
      "\tgeneration[GWh]        1,044,975         230,370            22.0%\n",
      "\n",
      "moving output files\n"
     ]
    },
    {
     "ename": "FileNotFoundError",
     "evalue": "[WinError 3] 지정된 경로를 찾을 수 없습니다: 'png\\\\world'",
     "output_type": "error",
     "traceback": [
      "\u001b[1;31m---------------------------------------------------------------------------\u001b[0m",
      "\u001b[1;31mFileNotFoundError\u001b[0m                         Traceback (most recent call last)",
      "\u001b[1;32m~\\AppData\\Local\\Temp/ipykernel_18672/2268255437.py\u001b[0m in \u001b[0;36m<module>\u001b[1;34m\u001b[0m\n\u001b[0;32m     57\u001b[0m     \u001b[1;32mfor\u001b[0m \u001b[0mi\u001b[0m\u001b[1;33m,\u001b[0m \u001b[0mdir\u001b[0m \u001b[1;32min\u001b[0m \u001b[0menumerate\u001b[0m\u001b[1;33m(\u001b[0m\u001b[0mdirs\u001b[0m\u001b[1;33m)\u001b[0m\u001b[1;33m:\u001b[0m\u001b[1;33m\u001b[0m\u001b[1;33m\u001b[0m\u001b[0m\n\u001b[0;32m     58\u001b[0m         \u001b[1;32mif\u001b[0m \u001b[1;32mnot\u001b[0m \u001b[0mos\u001b[0m\u001b[1;33m.\u001b[0m\u001b[0mpath\u001b[0m\u001b[1;33m.\u001b[0m\u001b[0misdir\u001b[0m\u001b[1;33m(\u001b[0m\u001b[0mdir\u001b[0m\u001b[1;33m)\u001b[0m\u001b[1;33m:\u001b[0m\u001b[1;33m\u001b[0m\u001b[1;33m\u001b[0m\u001b[0m\n\u001b[1;32m---> 59\u001b[1;33m             \u001b[0mos\u001b[0m\u001b[1;33m.\u001b[0m\u001b[0mmkdir\u001b[0m\u001b[1;33m(\u001b[0m\u001b[0mdir\u001b[0m\u001b[1;33m)\u001b[0m\u001b[1;33m\u001b[0m\u001b[1;33m\u001b[0m\u001b[0m\n\u001b[0m\u001b[0;32m     60\u001b[0m         \u001b[0mcommand\u001b[0m \u001b[1;33m=\u001b[0m \u001b[1;34mf'move {files[i]} {dir}'\u001b[0m\u001b[1;33m\u001b[0m\u001b[1;33m\u001b[0m\u001b[0m\n\u001b[0;32m     61\u001b[0m         \u001b[0mprint\u001b[0m\u001b[1;33m(\u001b[0m\u001b[0mcommand\u001b[0m\u001b[1;33m)\u001b[0m\u001b[1;33m\u001b[0m\u001b[1;33m\u001b[0m\u001b[0m\n",
      "\u001b[1;31mFileNotFoundError\u001b[0m: [WinError 3] 지정된 경로를 찾을 수 없습니다: 'png\\\\world'"
     ]
    }
   ],
   "source": [
    "# calculation by year and country\n",
    "# years = [2018, 2019, 2020]\n",
    "years = [2019]\n",
    "\n",
    "countries = oecd_countries\n",
    "countries = ['S. Korea', 'China', 'USA', 'Japan']\n",
    "# countries = []  # G20, G8, 관심국들의 그래프를 그릴 때 이용한다.\n",
    "\n",
    "for year in years:\n",
    "    print(f'world / {year}')\n",
    "    # year년의 country별 그룹\n",
    "    df = df_irena[df_irena['year'] == year].groupby('country').sum()\n",
    "    df.loc[:, 'utilization'] = df.loc[:, 'generation'] / df.loc[:, 'capacity']   # [kh]. utilization은 sum()하면 안 된다.\n",
    "\n",
    "    world_capacity(year)\n",
    "    world_generation(year)\n",
    "    world_capacity_generation(year)\n",
    "    world_utilization(year)\n",
    "    world_renewable_capacity(year)\n",
    "    world_renewable_generation(year)\n",
    "    world_renewable_capacity_generation(year)\n",
    "    world_renewable_capacity_generation_utilization(year)\n",
    "\n",
    "    for country in countries:\n",
    "        # calc\n",
    "        df_grp_cy = df_irena.groupby(['country', 'year'])\n",
    "        df_cy = df_grp_cy.get_group((country, year))\n",
    "\n",
    "        generation_total = df_cy['generation'].sum()\n",
    "        df_cy.loc[:, 'generation_pct'] = df_cy.loc[:, 'generation'] / generation_total * 100\n",
    "\n",
    "        capacity_total = df_cy['capacity'].sum()\n",
    "        df_cy.loc[:, 'capacity_pct'] = df_cy.loc[:, 'capacity'] / capacity_total * 100\n",
    "\n",
    "        gen_renewable_total = df_cy[df_cy['technology'].isin(\n",
    "            renewables)]['generation'].sum()\n",
    "        cap_renewable_total = df_cy[df_cy['technology'].isin(\n",
    "            renewables)]['capacity'].sum()\n",
    "\n",
    "        gen_renewable_pct = gen_renewable_total / generation_total * 100 if generation_total != 0 else 0\n",
    "        cap_renewable_pct = cap_renewable_total / capacity_total * 100 if capacity_total != 0 else 0\n",
    "\n",
    "\n",
    "        # plot\n",
    "        plot_capacity(year, country)\n",
    "        plot_capacity_percent(year, country)\n",
    "        plot_generation(year, country)\n",
    "        plot_generation_percent(year, country)\n",
    "        plot_capacity_generation(year, country)\n",
    "        plot_capacity_generation_percent(year, country)\n",
    "        print_summary(year, country)\n",
    "\n",
    "\n"
   ]
  },
  {
   "cell_type": "code",
   "execution_count": 35,
   "metadata": {},
   "outputs": [
    {
     "name": "stdout",
     "output_type": "stream",
     "text": [
      "moving output files\n",
      "move world*.png png\\world\n",
      "move *.png png\\country\n",
      "moving output files complete\n",
      "program finished\n"
     ]
    }
   ],
   "source": [
    "if k_figsave:\n",
    "    print('moving output files')\n",
    "    dirs = ['png\\\\world', 'png\\\\country']\n",
    "    files = ['world*.png', '*.png']  # 순서가 중요하다.\n",
    "    for i, dir in enumerate(dirs):\n",
    "        if not os.path.isdir(dir):\n",
    "            os.mkdir(dir)\n",
    "        command = f'move {files[i]} {dir}'\n",
    "        print(command)\n",
    "        os.system(command)\n",
    "    print('moving output files complete')\n",
    "\n",
    "os.chdir(home_dir)\n",
    "\n",
    "print('program finished')\n"
   ]
  },
  {
   "cell_type": "code",
   "execution_count": null,
   "metadata": {},
   "outputs": [],
   "source": []
  }
 ],
 "metadata": {
  "interpreter": {
   "hash": "533d0053092db241bd8e1cd1b682e01dcebe17caa21008d614b7d24f21407125"
  },
  "kernelspec": {
   "display_name": "Python 3 (ipykernel)",
   "language": "python",
   "name": "python3"
  },
  "language_info": {
   "codemirror_mode": {
    "name": "ipython",
    "version": 3
   },
   "file_extension": ".py",
   "mimetype": "text/x-python",
   "name": "python",
   "nbconvert_exporter": "python",
   "pygments_lexer": "ipython3",
   "version": "3.8.10"
  }
 },
 "nbformat": 4,
 "nbformat_minor": 4
}
